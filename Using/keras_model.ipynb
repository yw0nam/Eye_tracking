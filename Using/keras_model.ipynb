{
 "cells": [
  {
   "cell_type": "code",
   "execution_count": 1,
   "metadata": {},
   "outputs": [],
   "source": [
    "import tensorflow as tf\n",
    "import numpy as np\n",
    "import matplotlib.pyplot as plt\n",
    "from PIL import Image\n",
    "from glob import glob\n",
    "import matplotlib.cm as cm\n",
    "from scipy.misc import imresize\n",
    "import cv2\n",
    "import pandas as pd\n",
    "import scipy.io as io"
   ]
  },
  {
   "cell_type": "code",
   "execution_count": 2,
   "metadata": {},
   "outputs": [],
   "source": [
    "def data_extraction(path_left, path_right):\n",
    "    img_path_left = glob(path_left + '/*.jpg')\n",
    "    img_path_right = glob(path_right + '/*.jpg')\n",
    "    img_path_left.sort()\n",
    "    img_path_right.sort()\n",
    "    data_right = []\n",
    "    data_left = []\n",
    "    for i in range(len(img_path_left)):\n",
    "        img_left = cv2.imread(img_path_left[i], 0)\n",
    "        img_right = cv2.imread(img_path_right[i], 0)\n",
    "        data_left.append(img_left)\n",
    "        data_right.append(img_right)\n",
    "    return [data_right, data_left]"
   ]
  },
  {
   "cell_type": "code",
   "execution_count": 3,
   "metadata": {},
   "outputs": [],
   "source": [
    "def label_extraction(path, screen_path):\n",
    "    txt = pd.read_csv(path, sep = ' ', header= None)\n",
    "    screen = io.loadmat(screen_path)\n",
    "    df_anno = pd.DataFrame(txt)\n",
    "    data_frame = pd.DataFrame()\n",
    "    data_frame['Screen_x'] = df_anno[:][24] / screen['width_pixel'][0][0]\n",
    "    data_frame['Screen_y'] = df_anno[:][25] / screen['height_pixel'][0][0]\n",
    "    return data_frame"
   ]
  },
  {
   "cell_type": "code",
   "execution_count": 4,
   "metadata": {},
   "outputs": [],
   "source": [
    "from IPython.display import clear_output, Image, display, HTML\n",
    "import numpy as np    \n",
    "\n",
    "def strip_consts(graph_def, max_const_size=32):\n",
    "    \"\"\"Strip large constant values from graph_def.\"\"\"\n",
    "    strip_def = tf.GraphDef()\n",
    "    for n0 in graph_def.node:\n",
    "        n = strip_def.node.add() \n",
    "        n.MergeFrom(n0)\n",
    "        if n.op == 'Const':\n",
    "            tensor = n.attr['value'].tensor\n",
    "            size = len(tensor.tensor_content)\n",
    "            if size > max_const_size:\n",
    "                tensor.tensor_content = \"<stripped %d bytes>\"%size\n",
    "    return strip_def\n",
    "\n",
    "def show_graph(graph_def, max_const_size=32):\n",
    "    \"\"\"Visualize TensorFlow graph.\"\"\"\n",
    "    if hasattr(graph_def, 'as_graph_def'):\n",
    "        graph_def = graph_def.as_graph_def()\n",
    "    strip_def = strip_consts(graph_def, max_const_size=max_const_size)\n",
    "    code = \"\"\"\n",
    "        <script>\n",
    "          function load() {{\n",
    "            document.getElementById(\"{id}\").pbtxt = {data};\n",
    "          }}\n",
    "        </script>\n",
    "        <link rel=\"import\" href=\"https://tensorboard.appspot.com/tf-graph-basic.build.html\" onload=load()>\n",
    "        <div style=\"height:600px\">\n",
    "          <tf-graph-basic id=\"{id}\"></tf-graph-basic>\n",
    "        </div>\n",
    "    \"\"\".format(data=repr(str(strip_def)), id='graph'+str(np.random.rand()))\n",
    "\n",
    "    iframe = \"\"\"\n",
    "        <iframe seamless style=\"width:1200px;height:620px;border:0\" srcdoc=\"{}\"></iframe>\n",
    "    \"\"\".format(code.replace('\"', '&quot;'))\n",
    "    display(HTML(iframe))"
   ]
  },
  {
   "cell_type": "code",
   "execution_count": 5,
   "metadata": {
    "scrolled": true
   },
   "outputs": [],
   "source": [
    "def path_optimization(day_list, path):\n",
    "    all_path = []\n",
    "    cnt = 0\n",
    "    for i in range(len(day_list)): # 15번 \n",
    "        temp = []\n",
    "        for j in range(day_list[i]):\n",
    "            temp.append(path[cnt])\n",
    "            cnt += 1\n",
    "        all_path.append(temp)\n",
    "    return all_path"
   ]
  },
  {
   "cell_type": "code",
   "execution_count": 6,
   "metadata": {},
   "outputs": [],
   "source": [
    "def make_dataset_img_label(image_shape, label_shape, data_list, label_list):\n",
    "    length = len(data_list[0])\n",
    "    left_img = np.zeros([length,image_shape])\n",
    "    right_img = np.zeros([length,image_shape])\n",
    "    label = np.zeros([length,label_shape])\n",
    "    for n in range(length):\n",
    "        left_img[n, :] = data_list[1][n].reshape(image_shape)\n",
    "        right_img[n, :] = data_list[0][n].reshape(image_shape)\n",
    "        label[n, :] = [label_list['Screen_x'][n], label_list['Screen_y'][n]]\n",
    "        \n",
    "    return right_img, left_img, label\n",
    "\n",
    "def make_dataset_gaze_pose(data_shape, data_list):\n",
    "    length = len(data_list[0])\n",
    "    left_pose = np.zeros([length,data_shape])\n",
    "    right_pose = np.zeros([length,data_shape])\n",
    "    left_gaze = np.zeros([length,data_shape])\n",
    "    right_gaze = np.zeros([length,data_shape])\n",
    "    for n in range(length):\n",
    "        left_gaze[n, :] = data_list[3][n]\n",
    "        right_gaze[n, :] = data_list[2][n]\n",
    "        left_pose[n, :] = data_list[5][n]\n",
    "        right_pose[n, :] = data_list[4][n]\n",
    "    return left_gaze, right_gaze, left_pose, right_pose"
   ]
  },
  {
   "cell_type": "code",
   "execution_count": 7,
   "metadata": {},
   "outputs": [],
   "source": [
    "def plot_history(history):\n",
    "    hist = pd.DataFrame(history.history)\n",
    "    hist['epoch'] = history.epoch\n",
    "\n",
    "    plt.figure(figsize=(8,12))\n",
    "\n",
    "    plt.subplot(2,1,1)\n",
    "    plt.xlabel('Epoch')\n",
    "    plt.ylabel('Mean Abs Error [MPG]')\n",
    "    plt.plot(hist['epoch'], hist['mean_absolute_error'],\n",
    "           label='Train Error')\n",
    "    plt.plot(hist['epoch'], hist['val_mean_absolute_error'],\n",
    "           label = 'Val Error')\n",
    "    plt.ylim([0,1])\n",
    "    plt.legend()\n",
    "\n",
    "    plt.subplot(2,1,2)\n",
    "    plt.xlabel('Epoch')\n",
    "    plt.ylabel('Mean Square Error [$MPG^2$]')\n",
    "    plt.plot(hist['epoch'], hist['loss'],\n",
    "           label='Train Error')\n",
    "    plt.plot(hist['epoch'], hist['val_loss'],\n",
    "           label = 'Val Error')\n",
    "    plt.ylim([0,1])\n",
    "    plt.legend()\n",
    "    plt.show()\n",
    "\n"
   ]
  },
  {
   "cell_type": "code",
   "execution_count": 8,
   "metadata": {},
   "outputs": [],
   "source": [
    "image_path_right = glob('/home/spow12/Codes/Data/MPIIGaze/Data/Our_data_right/*/*/')\n",
    "image_path_left = glob('/home/spow12/Codes/Data/MPIIGaze/Data/Our_data_left/*/*/')\n",
    "image_path_left.sort()\n",
    "image_path_right.sort()"
   ]
  },
  {
   "cell_type": "code",
   "execution_count": 9,
   "metadata": {},
   "outputs": [],
   "source": [
    "day_list = [39, 69, 39, 65, 25, 38, 62, 56, 47, 20, 16, 19, 7, 12, 7]  \n",
    "image_path_left_op = path_optimization(day_list, image_path_left)\n",
    "image_path_right_op = path_optimization(day_list, image_path_right)\n",
    "\n",
    "label_path = glob('/home/spow12/Codes/Data/MPIIGaze/Data/Original/*/*/annotation.txt') # 521개\n",
    "label_path.sort()\n",
    "label_path = path_optimization(day_list, label_path)\n",
    "#label_path = path_optimzation(glob('C:/MPIIGaze/MPIIGaze/Data/Original/*/*/annotation.txt'))\n",
    "screen_size_path = glob('/home/spow12/Codes/Data/MPIIGaze/Data/Original/*/Calibration/screenSize.mat') # 15개"
   ]
  },
  {
   "cell_type": "code",
   "execution_count": 10,
   "metadata": {},
   "outputs": [],
   "source": [
    "for i in range(15): # 총 15명\n",
    "/    data = [] # 사람별로 나눈 데이터\n",
    "    label = [] # 사람별로 나눈 라벨   \n",
    "    for j in range(day_list[i]): # 각 사람에 맞는 day만큼\n",
    "        data.append(data_extraction(image_path_left_op[i][j], image_path_right_op[i][j]))\n",
    "        label.append(label_extraction(label_path[i][j], screen_size_path[i]))\n",
    "    exec('p%d_data = data' % (i))\n",
    "    exec('p%d_label = label' % (i))"
   ]
  },
  {
   "cell_type": "code",
   "execution_count": 11,
   "metadata": {},
   "outputs": [],
   "source": [
    "Batch_RE_img_data = []\n",
    "Batch_LE_img_data = []\n",
    "#Batch_LE_gaze_data = []\n",
    "#Batch_RE_gaze_data = [] \n",
    "#Batch_LE_pose_data = []\n",
    "#Batch_RE_pose_data = []\n",
    "Batch_label = []\n",
    "for i in range(15):\n",
    "    for j in range(day_list[i]): #days list in Data  po -> 39days  ..\n",
    "        exec('RE_img_data, LE_img_data, dataset_label = make_dataset_img_label(36 * 60, 2, p{0}_data[{1}], p{2}_label[{3}])'\n",
    "             .format(i, j, i, j))\n",
    "        Batch_RE_img_data.append(RE_img_data)\n",
    "        Batch_LE_img_data.append(LE_img_data)\n",
    "#         Batch_LE_gaze_data.append(LE_gaze_data)\n",
    "#         Batch_RE_gaze_data.append(RE_gaze_data)\n",
    "#         Batch_LE_pose_data.append(LE_pose_data)\n",
    "#         Batch_RE_pose_data.append(RE_pose_data)\n",
    "        Batch_label.append(dataset_label)"
   ]
  },
  {
   "cell_type": "code",
   "execution_count": 12,
   "metadata": {},
   "outputs": [],
   "source": [
    "for i in range(15):\n",
    "    exec('del(p{0}_data)'.format(i))\n",
    "    exec('del(p{0}_label)'.format(i))"
   ]
  },
  {
   "cell_type": "code",
   "execution_count": 13,
   "metadata": {},
   "outputs": [],
   "source": [
    "del(RE_img_data)\n",
    "del(LE_img_data)\n",
    "del(dataset_label)\n",
    "del(image_path_right)\n",
    "del(image_path_left)\n",
    "del(label_path)\n",
    "del(screen_size_path)\n",
    "del(data)\n",
    "del(label)"
   ]
  },
  {
   "cell_type": "markdown",
   "metadata": {},
   "source": [
    "# Make dataset"
   ]
  },
  {
   "cell_type": "code",
   "execution_count": 14,
   "metadata": {},
   "outputs": [
    {
     "name": "stdout",
     "output_type": "stream",
     "text": [
      "337\n",
      "103\n",
      "81\n"
     ]
    }
   ],
   "source": [
    "train = day_list[:7]\n",
    "val = day_list[7:9]\n",
    "test = day_list[9:]\n",
    "\n",
    "print(sum(train))\n",
    "print(sum(val))\n",
    "print(sum(test))"
   ]
  },
  {
   "cell_type": "code",
   "execution_count": 15,
   "metadata": {},
   "outputs": [],
   "source": [
    "d_len = [0, 337, 440, 521]"
   ]
  },
  {
   "cell_type": "code",
   "execution_count": 16,
   "metadata": {},
   "outputs": [],
   "source": [
    "all_ls = []"
   ]
  },
  {
   "cell_type": "code",
   "execution_count": 17,
   "metadata": {},
   "outputs": [],
   "source": [
    "# cnt = 0\n",
    "# for i in range(440, 521):\n",
    "#     for j in range(len(Batch_LE_img_data[i])):\n",
    "#         cnt += 1\n",
    "        \n",
    "# all_ls.append(cnt)"
   ]
  },
  {
   "cell_type": "code",
   "execution_count": 23,
   "metadata": {},
   "outputs": [],
   "source": [
    "all_ls = [169054, 26210, 18394]"
   ]
  },
  {
   "cell_type": "code",
   "execution_count": 24,
   "metadata": {},
   "outputs": [],
   "source": [
    "def build_data(idx, batch, data=[Batch_LE_img_data,Batch_RE_img_data, Batch_label], day_ls = d_len, n = 0):\n",
    "    LE_image = np.zeros([batch[idx], 36, 60, 1])\n",
    "    RE_image = np.zeros([batch[idx], 36, 60, 1])\n",
    "    label = np.zeros([batch[idx], 2])\n",
    "    \n",
    "    try:\n",
    "        for i in range(day_ls[idx], day_ls[idx + 1]):\n",
    "            for j in range(len(data[0][i])):\n",
    "                LE_image[n, :] = data[0][i][j].reshape(36, 60, 1)\n",
    "                RE_image[n, :] = data[1][i][j].reshape(36, 60, 1)\n",
    "                label[n, :] = data[2][i][j]\n",
    "                n += 1\n",
    "    except IndexError:\n",
    "        pass\n",
    "    return LE_image, RE_image, label, i, n"
   ]
  },
  {
   "cell_type": "code",
   "execution_count": 25,
   "metadata": {},
   "outputs": [],
   "source": [
    "LE_train_image, RE_train_image, train_label, _, _ = build_data(idx = 0, batch=all_ls) # 0 -> train       \n",
    "LE_val_image, RE_val_image, val_label, _, _ = build_data(idx = 1, batch=all_ls)  # 1 -> val\n",
    "LE_test_image, RE_test_image, test_label, _, _ = build_data(idx = 2, batch=all_ls)    # 2 -> test"
   ]
  },
  {
   "cell_type": "markdown",
   "metadata": {},
   "source": [
    "# Make graph for eye images"
   ]
  },
  {
   "cell_type": "code",
   "execution_count": 90,
   "metadata": {},
   "outputs": [],
   "source": [
    "from tensorflow.keras.optimizers import Adam\n",
    "from tensorflow.keras.layers import Activation, Dropout\n",
    "from tensorflow.keras.layers import Conv2D, BatchNormalization\n",
    "from tensorflow.keras.layers import Dense, Flatten, concatenate\n",
    "from tensorflow.keras.models import Model\n",
    "from tensorflow.keras.utils import plot_model\n",
    "from tensorflow.keras import Input\n",
    "# from morph_net.network_regularizers import flop_regularizer\n",
    "# from morph_net.tools import structure_exporter\n",
    "# from morph_net.framework import batch_norm_source_op_handler\n",
    "from tensorflow.keras.layers import DepthwiseConv2D\n",
    "from tensorflow.keras.layers import AveragePooling2D"
   ]
  },
  {
   "cell_type": "code",
   "execution_count": 91,
   "metadata": {},
   "outputs": [],
   "source": [
    "def Build_conv2d(x, channel, name, num,down_sampling=False):\n",
    "    stride= (2, 2) if down_sampling else (1, 1)\n",
    "    #padd = '' if down_sampling else 'same'\n",
    "    with tf.name_scope(name + '_layer_'+num):\n",
    "        x = (Conv2D(channel, kernel_size=(3, 3), padding= 'same', \n",
    "                        strides = stride ,activation= 'relu',\n",
    "                        name = name +'_Layer_'+num))(x)\n",
    "        x = (BatchNormalization(name = name +'_BN_'+num))(x)\n",
    "        x = (Activation('elu', name = name +'_act_'+num))(x)\n",
    "        return x"
   ]
  },
  {
   "cell_type": "code",
   "execution_count": 92,
   "metadata": {},
   "outputs": [],
   "source": [
    "def build_net(ch, shape):\n",
    "    row, col, channel = shape[0], shape[1], shape[2]\n",
    "    left_input = Input(shape=(row, col, channel,), name = 'left_eye_input')\n",
    "    right_input = Input(shape=(row, col, channel,), name= 'right_eye_input')\n",
    "    channel_1 = ch[0]\n",
    "    channel_2 = ch[1]\n",
    "    channel_3 = ch[2]\n",
    "    channel_4 = ch[3]\n",
    "    channel_5 = ch[4]\n",
    "    channel_6 = ch[5]\n",
    "    name = 'Left'\n",
    "    with tf.name_scope(name +'_layer_1'):\n",
    "        x = (Conv2D(channel_1, kernel_size=(3, 3), padding=\"same\", \n",
    "                            strides = (1, 1),activation= None,\n",
    "                            name = 'Left_Layer_1'))(left_input)\n",
    "        x = (BatchNormalization(name = 'Left_BN_1'))(x)\n",
    "        x = Activation('elu', name = 'Left_act')(x)\n",
    "    x = Build_conv2d(x,channel_2, name, '2', down_sampling=True)\n",
    "    x = Build_conv2d(x,channel_2, name, '3', down_sampling=False)\n",
    "    x = Build_conv2d(x,channel_3, name, '4', down_sampling=True)\n",
    "    x = Build_conv2d(x,channel_3, name, '5', down_sampling=False)\n",
    "    x = Build_conv2d(x,channel_4, name, '6', down_sampling=True)\n",
    "    x = Build_conv2d(x,channel_4, name, '7', down_sampling=False)\n",
    "    x = Build_conv2d(x,channel_5, name, '8', down_sampling=True)\n",
    "    x = Build_conv2d(x,channel_5, name, '9', down_sampling=False)\n",
    "    x = Build_conv2d(x,channel_6, name, '10', down_sampling=True)\n",
    "    x = Build_conv2d(x,channel_6, name, '11', down_sampling=False)\n",
    "    left_x = AveragePooling2D([2, 2],name= \"Left_global_avg_pool\")(x)\n",
    "\n",
    "    name = 'Right'\n",
    "    with tf.name_scope(name +'_layer_1'):\n",
    "        x = (Conv2D(channel_1, kernel_size=(3, 3), padding=\"same\", \n",
    "                            strides = (1, 1),activation= None,\n",
    "                            name = 'Right_Layer_1'))(right_input)\n",
    "        x = (BatchNormalization(name = 'Right_BN_1'))(x)\n",
    "        x = Activation('elu', name='Right_act')(x)\n",
    "    x = Build_conv2d(x,channel_2, name, '2', down_sampling=True)\n",
    "    x = Build_conv2d(x,channel_2, name, '3', down_sampling=False)\n",
    "    x = Build_conv2d(x,channel_3, name, '4', down_sampling=True)\n",
    "    x = Build_conv2d(x,channel_3, name, '5', down_sampling=False)\n",
    "    x = Build_conv2d(x,channel_4, name, '6', down_sampling=True)\n",
    "    x = Build_conv2d(x,channel_4, name, '7', down_sampling=False)\n",
    "    x = Build_conv2d(x,channel_5, name, '8', down_sampling=True)\n",
    "    x = Build_conv2d(x,channel_5, name, '9', down_sampling=False)\n",
    "    x = Build_conv2d(x,channel_6, name, '10', down_sampling=True)\n",
    "    x = Build_conv2d(x,channel_6, name, '11', down_sampling=False)\n",
    "    right_x = AveragePooling2D([2,2],name = \"Right_global_avg_pool\")(x)\n",
    "\n",
    "\n",
    "    merge_layer = concatenate([left_x, right_x])\n",
    "    merged = Flatten()(merge_layer)\n",
    "\n",
    "    with tf.name_scope('merge_layer_1'):\n",
    "        x = (Dense(320, name = 'Merge_dense_1'))(merged)\n",
    "        x = (BatchNormalization(name = 'Merge_BN_1'))(x)\n",
    "        x = (Activation('elu', name = 'Merge_act_1'))(x)\n",
    "        x = (Dropout(0.3, name = 'Merge_drop_1'))(x)\n",
    "\n",
    "    with tf.name_scope('merge_layer_out'):\n",
    "        x = (Dense(2, name = 'Merge_dense_out'))(x)\n",
    "        x = (BatchNormalization(name = 'Merge_BN_out'))(x)\n",
    "        x = (Activation('linear', name = 'Merge_act_out'))(x)\n",
    "        out = (Dropout(0.3, name = 'Merge_drop_out'))(x)    \n",
    "\n",
    "    model = Model([left_input, right_input], out)\n",
    "    return model"
   ]
  },
  {
   "cell_type": "code",
   "execution_count": 93,
   "metadata": {},
   "outputs": [],
   "source": [
    "def Build_conv2D_with_ds_pw(x, channel, name, num, down_sampling=False):\n",
    "    s = (2, 2) if down_sampling else (1, 1)\n",
    "    with tf.name_scope(name +'_layer_'+num):\n",
    "        x = DepthwiseConv2D((3, 3), strides= s, padding='same', use_bias=False, \n",
    "                            name = name +'_DS_'+num)(x)\n",
    "        x = (BatchNormalization(name = name +'-DS_BN_'+num))(x)\n",
    "        x = (Activation('elu', name = name +'_DS_act_'+num))(x)\n",
    "        x = Conv2D(channel, (1, 1), strides=(1, 1), padding='same', use_bias=False,\n",
    "                            name = name +'_PW_'+num)(x)\n",
    "        x = (BatchNormalization(name = name +'_PW_BN_'+num))(x)\n",
    "        x = (Activation('elu', name = name +'_PW_act_'+num))(x)\n",
    "    return x"
   ]
  },
  {
   "cell_type": "code",
   "execution_count": 94,
   "metadata": {},
   "outputs": [],
   "source": [
    "def build_net_with_mobile(ch, shape):\n",
    "    row, col, channel = shape[0], shape[1], shape[2]\n",
    "    left_input = Input(shape=(row, col, channel,), name = 'left_eye_input')\n",
    "    right_input = Input(shape=(row, col, channel,), name= 'right_eye_input')\n",
    "    channel_1 = ch[0]\n",
    "    channel_2 = ch[1]\n",
    "    channel_3 = ch[2]\n",
    "    channel_4 = ch[3]\n",
    "    channel_5 = ch[4]\n",
    "    channel_6 = ch[5]\n",
    "    name = 'Left'\n",
    "    with tf.name_scope(name +'_layer_1'):\n",
    "        x = (Conv2D(channel_1, kernel_size=(3, 3), padding=\"same\", \n",
    "                            strides = (1, 1),activation= None,\n",
    "                            name = 'Left_Layer_1'))(left_input)\n",
    "        x = (BatchNormalization(name = 'Left_BN_1'))(x)\n",
    "        x = Activation('elu')(x)\n",
    "        \n",
    "    x = Build_conv2D_with_ds_pw(x,channel_2, name, '2', down_sampling=True)\n",
    "    x = Build_conv2D_with_ds_pw(x,channel_2, name, '3', down_sampling=False)\n",
    "    x = Build_conv2D_with_ds_pw(x,channel_3, name, '4', down_sampling=True)\n",
    "    x = Build_conv2D_with_ds_pw(x,channel_3, name, '5', down_sampling=False)\n",
    "    x = Build_conv2D_with_ds_pw(x,channel_4, name, '6', down_sampling=True)\n",
    "    x = Build_conv2D_with_ds_pw(x,channel_4, name, '7', down_sampling=False)\n",
    "    x = Build_conv2D_with_ds_pw(x,channel_5, name, '8', down_sampling=True)\n",
    "    x = Build_conv2D_with_ds_pw(x,channel_5, name, '9', down_sampling=False)\n",
    "    x = Build_conv2D_with_ds_pw(x,channel_6, name, '10', down_sampling=True)\n",
    "    x = Build_conv2D_with_ds_pw(x,channel_6, name, '11', down_sampling=False)\n",
    "    left_x = AveragePooling2D([2, 2],name= \"Left_global_avg_pool\")(x)\n",
    "\n",
    "    \n",
    "    name = 'Right'\n",
    "    \n",
    "    with tf.name_scope(name +'_layer_1'):\n",
    "        x = (Conv2D(channel_1, kernel_size=(3, 3), padding=\"same\", \n",
    "                            strides = (1, 1),activation= None,\n",
    "                            name = 'Right_Layer_1'))(right_input)\n",
    "        x = (BatchNormalization(name = 'Right_BN_1'))(x)\n",
    "        x = Activation('elu')(x)\n",
    "    x = Build_conv2D_with_ds_pw(x,channel_2, name, '2', down_sampling=True)\n",
    "    x = Build_conv2D_with_ds_pw(x,channel_2, name, '3', down_sampling=False)\n",
    "    x = Build_conv2D_with_ds_pw(x,channel_3, name, '4', down_sampling=True)\n",
    "    x = Build_conv2D_with_ds_pw(x,channel_3, name, '5', down_sampling=False)\n",
    "    x = Build_conv2D_with_ds_pw(x,channel_4, name, '6', down_sampling=True)\n",
    "    x = Build_conv2D_with_ds_pw(x,channel_4, name, '7', down_sampling=False)\n",
    "    x = Build_conv2D_with_ds_pw(x,channel_5, name, '8', down_sampling=True)\n",
    "    x = Build_conv2D_with_ds_pw(x,channel_5, name, '9', down_sampling=False)\n",
    "    x = Build_conv2D_with_ds_pw(x,channel_6, name, '10', down_sampling=True)\n",
    "    x = Build_conv2D_with_ds_pw(x,channel_6, name, '11', down_sampling=False)\n",
    "    right_x = AveragePooling2D([2,2],name = \"Right_global_avg_pool\")(x)\n",
    "\n",
    "\n",
    "    merge_layer = concatenate([left_x, right_x])\n",
    "    merged = Flatten()(merge_layer)\n",
    "\n",
    "    with tf.name_scope('merge_layer_1'):\n",
    "        x = (Dense(320, name = 'Merge_dense_1'))(merged)\n",
    "        x = (BatchNormalization(name = 'Merge_BN_1'))(x)\n",
    "        x = (Activation('elu', name = 'Merge_act_1'))(x)\n",
    "        x = (Dropout(0.3, name = 'Merge_drop_1'))(x)\n",
    "\n",
    "    with tf.name_scope('merge_layer_out'):\n",
    "        x = (Dense(2, name = 'Merge_dense_out'))(x)\n",
    "        x = (BatchNormalization(name = 'Merge_BN_out'))(x)\n",
    "        x = (Activation('linear', name = 'Merge_act_out'))(x)\n",
    "        out = (Dropout(0.3, name = 'Merge_drop_out'))(x)    \n",
    "\n",
    "    model = Model([left_input, right_input], out)\n",
    "    return model"
   ]
  },
  {
   "cell_type": "code",
   "execution_count": 95,
   "metadata": {},
   "outputs": [],
   "source": [
    "def save_model(model, train_history, path, name):\n",
    "    model_json = model.to_json()\n",
    "    graph = path+ '_' + name + '.json'\n",
    "    weight = path+ '_' + name + '.h5'\n",
    "    history = path + '_' + name + '.csv'\n",
    "    with open(graph, \"w\") as f: \n",
    "        f.write(model_json)\n",
    "        f.close()\n",
    "\n",
    "    model.save_weights(weight)\n",
    "    print(\"Saved model to disk\")\n",
    "\n",
    "    hist = pd.DataFrame(train_history.history)\n",
    "    hist.to_csv(history)"
   ]
  },
  {
   "cell_type": "code",
   "execution_count": 96,
   "metadata": {},
   "outputs": [],
   "source": [
    "tf.reset_default_graph()\n",
    "shape = [36, 60, 1]\n",
    "channel_ls = [10, 20, 40 ,80, 120, 160]"
   ]
  },
  {
   "cell_type": "code",
   "execution_count": 97,
   "metadata": {},
   "outputs": [
    {
     "name": "stdout",
     "output_type": "stream",
     "text": [
      "Model: \"model\"\n",
      "__________________________________________________________________________________________________\n",
      "Layer (type)                    Output Shape         Param #     Connected to                     \n",
      "==================================================================================================\n",
      "left_eye_input (InputLayer)     [(None, 36, 60, 1)]  0                                            \n",
      "__________________________________________________________________________________________________\n",
      "right_eye_input (InputLayer)    [(None, 36, 60, 1)]  0                                            \n",
      "__________________________________________________________________________________________________\n",
      "Left_Layer_1 (Conv2D)           (None, 36, 60, 10)   100         left_eye_input[0][0]             \n",
      "__________________________________________________________________________________________________\n",
      "Right_Layer_1 (Conv2D)          (None, 36, 60, 10)   100         right_eye_input[0][0]            \n",
      "__________________________________________________________________________________________________\n",
      "Left_BN_1 (BatchNormalization)  (None, 36, 60, 10)   40          Left_Layer_1[0][0]               \n",
      "__________________________________________________________________________________________________\n",
      "Right_BN_1 (BatchNormalization) (None, 36, 60, 10)   40          Right_Layer_1[0][0]              \n",
      "__________________________________________________________________________________________________\n",
      "Left_act (Activation)           (None, 36, 60, 10)   0           Left_BN_1[0][0]                  \n",
      "__________________________________________________________________________________________________\n",
      "Right_act (Activation)          (None, 36, 60, 10)   0           Right_BN_1[0][0]                 \n",
      "__________________________________________________________________________________________________\n",
      "Left_Layer_2 (Conv2D)           (None, 18, 30, 20)   1820        Left_act[0][0]                   \n",
      "__________________________________________________________________________________________________\n",
      "Right_Layer_2 (Conv2D)          (None, 18, 30, 20)   1820        Right_act[0][0]                  \n",
      "__________________________________________________________________________________________________\n",
      "Left_BN_2 (BatchNormalization)  (None, 18, 30, 20)   80          Left_Layer_2[0][0]               \n",
      "__________________________________________________________________________________________________\n",
      "Right_BN_2 (BatchNormalization) (None, 18, 30, 20)   80          Right_Layer_2[0][0]              \n",
      "__________________________________________________________________________________________________\n",
      "Left_act_2 (Activation)         (None, 18, 30, 20)   0           Left_BN_2[0][0]                  \n",
      "__________________________________________________________________________________________________\n",
      "Right_act_2 (Activation)        (None, 18, 30, 20)   0           Right_BN_2[0][0]                 \n",
      "__________________________________________________________________________________________________\n",
      "Left_Layer_3 (Conv2D)           (None, 18, 30, 20)   3620        Left_act_2[0][0]                 \n",
      "__________________________________________________________________________________________________\n",
      "Right_Layer_3 (Conv2D)          (None, 18, 30, 20)   3620        Right_act_2[0][0]                \n",
      "__________________________________________________________________________________________________\n",
      "Left_BN_3 (BatchNormalization)  (None, 18, 30, 20)   80          Left_Layer_3[0][0]               \n",
      "__________________________________________________________________________________________________\n",
      "Right_BN_3 (BatchNormalization) (None, 18, 30, 20)   80          Right_Layer_3[0][0]              \n",
      "__________________________________________________________________________________________________\n",
      "Left_act_3 (Activation)         (None, 18, 30, 20)   0           Left_BN_3[0][0]                  \n",
      "__________________________________________________________________________________________________\n",
      "Right_act_3 (Activation)        (None, 18, 30, 20)   0           Right_BN_3[0][0]                 \n",
      "__________________________________________________________________________________________________\n",
      "Left_Layer_4 (Conv2D)           (None, 9, 15, 40)    7240        Left_act_3[0][0]                 \n",
      "__________________________________________________________________________________________________\n",
      "Right_Layer_4 (Conv2D)          (None, 9, 15, 40)    7240        Right_act_3[0][0]                \n",
      "__________________________________________________________________________________________________\n",
      "Left_BN_4 (BatchNormalization)  (None, 9, 15, 40)    160         Left_Layer_4[0][0]               \n",
      "__________________________________________________________________________________________________\n",
      "Right_BN_4 (BatchNormalization) (None, 9, 15, 40)    160         Right_Layer_4[0][0]              \n",
      "__________________________________________________________________________________________________\n",
      "Left_act_4 (Activation)         (None, 9, 15, 40)    0           Left_BN_4[0][0]                  \n",
      "__________________________________________________________________________________________________\n",
      "Right_act_4 (Activation)        (None, 9, 15, 40)    0           Right_BN_4[0][0]                 \n",
      "__________________________________________________________________________________________________\n",
      "Left_Layer_5 (Conv2D)           (None, 9, 15, 40)    14440       Left_act_4[0][0]                 \n",
      "__________________________________________________________________________________________________\n",
      "Right_Layer_5 (Conv2D)          (None, 9, 15, 40)    14440       Right_act_4[0][0]                \n",
      "__________________________________________________________________________________________________\n",
      "Left_BN_5 (BatchNormalization)  (None, 9, 15, 40)    160         Left_Layer_5[0][0]               \n",
      "__________________________________________________________________________________________________\n",
      "Right_BN_5 (BatchNormalization) (None, 9, 15, 40)    160         Right_Layer_5[0][0]              \n",
      "__________________________________________________________________________________________________\n",
      "Left_act_5 (Activation)         (None, 9, 15, 40)    0           Left_BN_5[0][0]                  \n",
      "__________________________________________________________________________________________________\n",
      "Right_act_5 (Activation)        (None, 9, 15, 40)    0           Right_BN_5[0][0]                 \n",
      "__________________________________________________________________________________________________\n",
      "Left_Layer_6 (Conv2D)           (None, 5, 8, 80)     28880       Left_act_5[0][0]                 \n",
      "__________________________________________________________________________________________________\n",
      "Right_Layer_6 (Conv2D)          (None, 5, 8, 80)     28880       Right_act_5[0][0]                \n",
      "__________________________________________________________________________________________________\n",
      "Left_BN_6 (BatchNormalization)  (None, 5, 8, 80)     320         Left_Layer_6[0][0]               \n",
      "__________________________________________________________________________________________________\n",
      "Right_BN_6 (BatchNormalization) (None, 5, 8, 80)     320         Right_Layer_6[0][0]              \n",
      "__________________________________________________________________________________________________\n",
      "Left_act_6 (Activation)         (None, 5, 8, 80)     0           Left_BN_6[0][0]                  \n",
      "__________________________________________________________________________________________________\n",
      "Right_act_6 (Activation)        (None, 5, 8, 80)     0           Right_BN_6[0][0]                 \n",
      "__________________________________________________________________________________________________\n",
      "Left_Layer_7 (Conv2D)           (None, 5, 8, 80)     57680       Left_act_6[0][0]                 \n",
      "__________________________________________________________________________________________________\n",
      "Right_Layer_7 (Conv2D)          (None, 5, 8, 80)     57680       Right_act_6[0][0]                \n",
      "__________________________________________________________________________________________________\n",
      "Left_BN_7 (BatchNormalization)  (None, 5, 8, 80)     320         Left_Layer_7[0][0]               \n",
      "__________________________________________________________________________________________________\n",
      "Right_BN_7 (BatchNormalization) (None, 5, 8, 80)     320         Right_Layer_7[0][0]              \n",
      "__________________________________________________________________________________________________\n",
      "Left_act_7 (Activation)         (None, 5, 8, 80)     0           Left_BN_7[0][0]                  \n",
      "__________________________________________________________________________________________________\n",
      "Right_act_7 (Activation)        (None, 5, 8, 80)     0           Right_BN_7[0][0]                 \n",
      "__________________________________________________________________________________________________\n",
      "Left_Layer_8 (Conv2D)           (None, 3, 4, 120)    86520       Left_act_7[0][0]                 \n",
      "__________________________________________________________________________________________________\n",
      "Right_Layer_8 (Conv2D)          (None, 3, 4, 120)    86520       Right_act_7[0][0]                \n",
      "__________________________________________________________________________________________________\n",
      "Left_BN_8 (BatchNormalization)  (None, 3, 4, 120)    480         Left_Layer_8[0][0]               \n",
      "__________________________________________________________________________________________________\n",
      "Right_BN_8 (BatchNormalization) (None, 3, 4, 120)    480         Right_Layer_8[0][0]              \n",
      "__________________________________________________________________________________________________\n",
      "Left_act_8 (Activation)         (None, 3, 4, 120)    0           Left_BN_8[0][0]                  \n",
      "__________________________________________________________________________________________________\n",
      "Right_act_8 (Activation)        (None, 3, 4, 120)    0           Right_BN_8[0][0]                 \n",
      "__________________________________________________________________________________________________\n",
      "Left_Layer_9 (Conv2D)           (None, 3, 4, 120)    129720      Left_act_8[0][0]                 \n",
      "__________________________________________________________________________________________________\n",
      "Right_Layer_9 (Conv2D)          (None, 3, 4, 120)    129720      Right_act_8[0][0]                \n",
      "__________________________________________________________________________________________________\n",
      "Left_BN_9 (BatchNormalization)  (None, 3, 4, 120)    480         Left_Layer_9[0][0]               \n",
      "__________________________________________________________________________________________________\n",
      "Right_BN_9 (BatchNormalization) (None, 3, 4, 120)    480         Right_Layer_9[0][0]              \n",
      "__________________________________________________________________________________________________\n",
      "Left_act_9 (Activation)         (None, 3, 4, 120)    0           Left_BN_9[0][0]                  \n",
      "__________________________________________________________________________________________________\n",
      "Right_act_9 (Activation)        (None, 3, 4, 120)    0           Right_BN_9[0][0]                 \n",
      "__________________________________________________________________________________________________\n",
      "Left_Layer_10 (Conv2D)          (None, 2, 2, 160)    172960      Left_act_9[0][0]                 \n",
      "__________________________________________________________________________________________________\n",
      "Right_Layer_10 (Conv2D)         (None, 2, 2, 160)    172960      Right_act_9[0][0]                \n",
      "__________________________________________________________________________________________________\n",
      "Left_BN_10 (BatchNormalization) (None, 2, 2, 160)    640         Left_Layer_10[0][0]              \n",
      "__________________________________________________________________________________________________\n",
      "Right_BN_10 (BatchNormalization (None, 2, 2, 160)    640         Right_Layer_10[0][0]             \n",
      "__________________________________________________________________________________________________\n",
      "Left_act_10 (Activation)        (None, 2, 2, 160)    0           Left_BN_10[0][0]                 \n",
      "__________________________________________________________________________________________________\n",
      "Right_act_10 (Activation)       (None, 2, 2, 160)    0           Right_BN_10[0][0]                \n",
      "__________________________________________________________________________________________________\n",
      "Left_Layer_11 (Conv2D)          (None, 2, 2, 160)    230560      Left_act_10[0][0]                \n",
      "__________________________________________________________________________________________________\n",
      "Right_Layer_11 (Conv2D)         (None, 2, 2, 160)    230560      Right_act_10[0][0]               \n",
      "__________________________________________________________________________________________________\n",
      "Left_BN_11 (BatchNormalization) (None, 2, 2, 160)    640         Left_Layer_11[0][0]              \n",
      "__________________________________________________________________________________________________\n",
      "Right_BN_11 (BatchNormalization (None, 2, 2, 160)    640         Right_Layer_11[0][0]             \n",
      "__________________________________________________________________________________________________\n",
      "Left_act_11 (Activation)        (None, 2, 2, 160)    0           Left_BN_11[0][0]                 \n",
      "__________________________________________________________________________________________________\n",
      "Right_act_11 (Activation)       (None, 2, 2, 160)    0           Right_BN_11[0][0]                \n",
      "__________________________________________________________________________________________________\n",
      "Left_global_avg_pool (AveragePo (None, 1, 1, 160)    0           Left_act_11[0][0]                \n",
      "__________________________________________________________________________________________________\n",
      "Right_global_avg_pool (AverageP (None, 1, 1, 160)    0           Right_act_11[0][0]               \n",
      "__________________________________________________________________________________________________\n",
      "concatenate (Concatenate)       (None, 1, 1, 320)    0           Left_global_avg_pool[0][0]       \n",
      "                                                                 Right_global_avg_pool[0][0]      \n",
      "__________________________________________________________________________________________________\n",
      "flatten (Flatten)               (None, 320)          0           concatenate[0][0]                \n",
      "__________________________________________________________________________________________________\n",
      "Merge_dense_1 (Dense)           (None, 320)          102720      flatten[0][0]                    \n",
      "__________________________________________________________________________________________________\n",
      "Merge_BN_1 (BatchNormalization) (None, 320)          1280        Merge_dense_1[0][0]              \n",
      "__________________________________________________________________________________________________\n",
      "Merge_act_1 (Activation)        (None, 320)          0           Merge_BN_1[0][0]                 \n",
      "__________________________________________________________________________________________________\n",
      "Merge_drop_1 (Dropout)          (None, 320)          0           Merge_act_1[0][0]                \n",
      "__________________________________________________________________________________________________\n",
      "Merge_dense_out (Dense)         (None, 2)            642         Merge_drop_1[0][0]               \n",
      "__________________________________________________________________________________________________\n",
      "Merge_BN_out (BatchNormalizatio (None, 2)            8           Merge_dense_out[0][0]            \n",
      "__________________________________________________________________________________________________\n",
      "Merge_act_out (Activation)      (None, 2)            0           Merge_BN_out[0][0]               \n",
      "__________________________________________________________________________________________________\n",
      "Merge_drop_out (Dropout)        (None, 2)            0           Merge_act_out[0][0]              \n",
      "==================================================================================================\n",
      "Total params: 1,578,530\n",
      "Trainable params: 1,574,486\n",
      "Non-trainable params: 4,044\n",
      "__________________________________________________________________________________________________\n"
     ]
    }
   ],
   "source": [
    "model = build_net(ch = channel_ls, shape = shape)\n",
    "model.summary()"
   ]
  },
  {
   "cell_type": "code",
   "execution_count": 98,
   "metadata": {
    "scrolled": true
   },
   "outputs": [],
   "source": [
    "# show_graph(tf.get_default_graph())"
   ]
  },
  {
   "cell_type": "code",
   "execution_count": 99,
   "metadata": {},
   "outputs": [],
   "source": [
    "epoch = 5\n",
    "batch_size = 500"
   ]
  },
  {
   "cell_type": "code",
   "execution_count": 100,
   "metadata": {},
   "outputs": [],
   "source": [
    "opt = Adam(lr=1e-3, decay=1e-3 / 200)\n",
    "model.compile(loss = 'mse', optimizer= opt, metrics=['mean_absolute_error'])"
   ]
  },
  {
   "cell_type": "code",
   "execution_count": 101,
   "metadata": {},
   "outputs": [],
   "source": [
    "LE_Train = LE_train_image[:169000]\n",
    "RE_Train = RE_train_image[:169000]\n",
    "Label_train = train_label[:169000]\n",
    "\n",
    "LE_val = LE_val_image[:26000]\n",
    "RE_val = RE_val_image[:26000]\n",
    "Label_val = val_label[:26000]"
   ]
  },
  {
   "cell_type": "code",
   "execution_count": 102,
   "metadata": {},
   "outputs": [
    {
     "name": "stdout",
     "output_type": "stream",
     "text": [
      "Train on 169000 samples, validate on 26000 samples\n",
      "Epoch 1/5\n",
      "169000/169000 [==============================] - 645s 4ms/sample - loss: 0.8632 - mean_absolute_error: 0.7477 - val_loss: 0.3665 - val_mean_absolute_error: 0.5057\n",
      "Epoch 2/5\n",
      "169000/169000 [==============================] - 640s 4ms/sample - loss: 0.3457 - mean_absolute_error: 0.4982 - val_loss: 0.1612 - val_mean_absolute_error: 0.3277\n",
      "Epoch 3/5\n",
      "169000/169000 [==============================] - 639s 4ms/sample - loss: 0.1754 - mean_absolute_error: 0.3340 - val_loss: 0.1077 - val_mean_absolute_error: 0.2617\n",
      "Epoch 4/5\n",
      "169000/169000 [==============================] - 642s 4ms/sample - loss: 0.1263 - mean_absolute_error: 0.2412 - val_loss: 0.0949 - val_mean_absolute_error: 0.2385\n",
      "Epoch 5/5\n",
      "169000/169000 [==============================] - 641s 4ms/sample - loss: 0.1156 - mean_absolute_error: 0.2036 - val_loss: 0.0948 - val_mean_absolute_error: 0.2367\n"
     ]
    }
   ],
   "source": [
    "with tf.device('/device:GPU:2'):\n",
    "    train_history = model.fit([LE_Train, RE_Train], Label_train, epochs= epoch, batch_size= batch_size, \n",
    "                          validation_data=([LE_val, RE_val], Label_val), verbose= 1)"
   ]
  },
  {
   "cell_type": "code",
   "execution_count": 103,
   "metadata": {},
   "outputs": [
    {
     "data": {
      "image/png": "[encoded data removed]",
      "text/plain": [
       "<Figure size 576x864 with 2 Axes>"
      ]
     },
     "metadata": {
      "needs_background": "light"
     },
     "output_type": "display_data"
    }
   ],
   "source": [
    "plot_history(train_history)"
   ]
  },
  {
   "cell_type": "code",
   "execution_count": 104,
   "metadata": {},
   "outputs": [
    {
     "name": "stdout",
     "output_type": "stream",
     "text": [
      "18394/18394 [==============================] - 17s 919us/sample - loss: 0.0562 - mean_absolute_error: 0.1834\n"
     ]
    },
    {
     "data": {
      "text/plain": [
       "[0.05617551148165416, 0.18335336]"
      ]
     },
     "execution_count": 104,
     "metadata": {},
     "output_type": "execute_result"
    }
   ],
   "source": [
    "model.evaluate([LE_test_image, RE_test_image], test_label)"
   ]
  },
  {
   "cell_type": "code",
   "execution_count": 105,
   "metadata": {},
   "outputs": [
    {
     "name": "stdout",
     "output_type": "stream",
     "text": [
      "Saved model to disk\n"
     ]
    }
   ],
   "source": [
    "path = \"/home/spow12/Codes/temp/model\"\n",
    "save_model(model, train_history, path, \"default\")"
   ]
  },
  {
   "cell_type": "code",
   "execution_count": 106,
   "metadata": {},
   "outputs": [
    {
     "name": "stdout",
     "output_type": "stream",
     "text": [
      "Model: \"model\"\n",
      "__________________________________________________________________________________________________\n",
      "Layer (type)                    Output Shape         Param #     Connected to                     \n",
      "==================================================================================================\n",
      "left_eye_input (InputLayer)     [(None, 36, 60, 1)]  0                                            \n",
      "__________________________________________________________________________________________________\n",
      "right_eye_input (InputLayer)    [(None, 36, 60, 1)]  0                                            \n",
      "__________________________________________________________________________________________________\n",
      "Left_Layer_1 (Conv2D)           (None, 36, 60, 10)   100         left_eye_input[0][0]             \n",
      "__________________________________________________________________________________________________\n",
      "Right_Layer_1 (Conv2D)          (None, 36, 60, 10)   100         right_eye_input[0][0]            \n",
      "__________________________________________________________________________________________________\n",
      "Left_BN_1 (BatchNormalization)  (None, 36, 60, 10)   40          Left_Layer_1[0][0]               \n",
      "__________________________________________________________________________________________________\n",
      "Right_BN_1 (BatchNormalization) (None, 36, 60, 10)   40          Right_Layer_1[0][0]              \n",
      "__________________________________________________________________________________________________\n",
      "activation (Activation)         (None, 36, 60, 10)   0           Left_BN_1[0][0]                  \n",
      "__________________________________________________________________________________________________\n",
      "activation_1 (Activation)       (None, 36, 60, 10)   0           Right_BN_1[0][0]                 \n",
      "__________________________________________________________________________________________________\n",
      "Left_DS_2 (DepthwiseConv2D)     (None, 18, 30, 10)   90          activation[0][0]                 \n",
      "__________________________________________________________________________________________________\n",
      "Right_DS_2 (DepthwiseConv2D)    (None, 18, 30, 10)   90          activation_1[0][0]               \n",
      "__________________________________________________________________________________________________\n",
      "Left-DS_BN_2 (BatchNormalizatio (None, 18, 30, 10)   40          Left_DS_2[0][0]                  \n",
      "__________________________________________________________________________________________________\n",
      "Right-DS_BN_2 (BatchNormalizati (None, 18, 30, 10)   40          Right_DS_2[0][0]                 \n",
      "__________________________________________________________________________________________________\n",
      "Left_DS_act_2 (Activation)      (None, 18, 30, 10)   0           Left-DS_BN_2[0][0]               \n",
      "__________________________________________________________________________________________________\n",
      "Right_DS_act_2 (Activation)     (None, 18, 30, 10)   0           Right-DS_BN_2[0][0]              \n",
      "__________________________________________________________________________________________________\n",
      "Left_PW_2 (Conv2D)              (None, 18, 30, 20)   200         Left_DS_act_2[0][0]              \n",
      "__________________________________________________________________________________________________\n",
      "Right_PW_2 (Conv2D)             (None, 18, 30, 20)   200         Right_DS_act_2[0][0]             \n",
      "__________________________________________________________________________________________________\n",
      "Left_PW_BN_2 (BatchNormalizatio (None, 18, 30, 20)   80          Left_PW_2[0][0]                  \n",
      "__________________________________________________________________________________________________\n",
      "Right_PW_BN_2 (BatchNormalizati (None, 18, 30, 20)   80          Right_PW_2[0][0]                 \n",
      "__________________________________________________________________________________________________\n",
      "Left_PW_act_2 (Activation)      (None, 18, 30, 20)   0           Left_PW_BN_2[0][0]               \n",
      "__________________________________________________________________________________________________\n",
      "Right_PW_act_2 (Activation)     (None, 18, 30, 20)   0           Right_PW_BN_2[0][0]              \n",
      "__________________________________________________________________________________________________\n",
      "Left_DS_3 (DepthwiseConv2D)     (None, 18, 30, 20)   180         Left_PW_act_2[0][0]              \n",
      "__________________________________________________________________________________________________\n",
      "Right_DS_3 (DepthwiseConv2D)    (None, 18, 30, 20)   180         Right_PW_act_2[0][0]             \n",
      "__________________________________________________________________________________________________\n",
      "Left-DS_BN_3 (BatchNormalizatio (None, 18, 30, 20)   80          Left_DS_3[0][0]                  \n",
      "__________________________________________________________________________________________________\n",
      "Right-DS_BN_3 (BatchNormalizati (None, 18, 30, 20)   80          Right_DS_3[0][0]                 \n",
      "__________________________________________________________________________________________________\n",
      "Left_DS_act_3 (Activation)      (None, 18, 30, 20)   0           Left-DS_BN_3[0][0]               \n",
      "__________________________________________________________________________________________________\n",
      "Right_DS_act_3 (Activation)     (None, 18, 30, 20)   0           Right-DS_BN_3[0][0]              \n",
      "__________________________________________________________________________________________________\n",
      "Left_PW_3 (Conv2D)              (None, 18, 30, 20)   400         Left_DS_act_3[0][0]              \n",
      "__________________________________________________________________________________________________\n",
      "Right_PW_3 (Conv2D)             (None, 18, 30, 20)   400         Right_DS_act_3[0][0]             \n",
      "__________________________________________________________________________________________________\n",
      "Left_PW_BN_3 (BatchNormalizatio (None, 18, 30, 20)   80          Left_PW_3[0][0]                  \n",
      "__________________________________________________________________________________________________\n",
      "Right_PW_BN_3 (BatchNormalizati (None, 18, 30, 20)   80          Right_PW_3[0][0]                 \n",
      "__________________________________________________________________________________________________\n",
      "Left_PW_act_3 (Activation)      (None, 18, 30, 20)   0           Left_PW_BN_3[0][0]               \n",
      "__________________________________________________________________________________________________\n",
      "Right_PW_act_3 (Activation)     (None, 18, 30, 20)   0           Right_PW_BN_3[0][0]              \n",
      "__________________________________________________________________________________________________\n",
      "Left_DS_4 (DepthwiseConv2D)     (None, 9, 15, 20)    180         Left_PW_act_3[0][0]              \n",
      "__________________________________________________________________________________________________\n",
      "Right_DS_4 (DepthwiseConv2D)    (None, 9, 15, 20)    180         Right_PW_act_3[0][0]             \n",
      "__________________________________________________________________________________________________\n",
      "Left-DS_BN_4 (BatchNormalizatio (None, 9, 15, 20)    80          Left_DS_4[0][0]                  \n",
      "__________________________________________________________________________________________________\n",
      "Right-DS_BN_4 (BatchNormalizati (None, 9, 15, 20)    80          Right_DS_4[0][0]                 \n",
      "__________________________________________________________________________________________________\n",
      "Left_DS_act_4 (Activation)      (None, 9, 15, 20)    0           Left-DS_BN_4[0][0]               \n",
      "__________________________________________________________________________________________________\n",
      "Right_DS_act_4 (Activation)     (None, 9, 15, 20)    0           Right-DS_BN_4[0][0]              \n",
      "__________________________________________________________________________________________________\n",
      "Left_PW_4 (Conv2D)              (None, 9, 15, 40)    800         Left_DS_act_4[0][0]              \n",
      "__________________________________________________________________________________________________\n",
      "Right_PW_4 (Conv2D)             (None, 9, 15, 40)    800         Right_DS_act_4[0][0]             \n",
      "__________________________________________________________________________________________________\n",
      "Left_PW_BN_4 (BatchNormalizatio (None, 9, 15, 40)    160         Left_PW_4[0][0]                  \n",
      "__________________________________________________________________________________________________\n",
      "Right_PW_BN_4 (BatchNormalizati (None, 9, 15, 40)    160         Right_PW_4[0][0]                 \n",
      "__________________________________________________________________________________________________\n",
      "Left_PW_act_4 (Activation)      (None, 9, 15, 40)    0           Left_PW_BN_4[0][0]               \n",
      "__________________________________________________________________________________________________\n",
      "Right_PW_act_4 (Activation)     (None, 9, 15, 40)    0           Right_PW_BN_4[0][0]              \n",
      "__________________________________________________________________________________________________\n",
      "Left_DS_5 (DepthwiseConv2D)     (None, 9, 15, 40)    360         Left_PW_act_4[0][0]              \n",
      "__________________________________________________________________________________________________\n",
      "Right_DS_5 (DepthwiseConv2D)    (None, 9, 15, 40)    360         Right_PW_act_4[0][0]             \n",
      "__________________________________________________________________________________________________\n",
      "Left-DS_BN_5 (BatchNormalizatio (None, 9, 15, 40)    160         Left_DS_5[0][0]                  \n",
      "__________________________________________________________________________________________________\n",
      "Right-DS_BN_5 (BatchNormalizati (None, 9, 15, 40)    160         Right_DS_5[0][0]                 \n",
      "__________________________________________________________________________________________________\n",
      "Left_DS_act_5 (Activation)      (None, 9, 15, 40)    0           Left-DS_BN_5[0][0]               \n",
      "__________________________________________________________________________________________________\n",
      "Right_DS_act_5 (Activation)     (None, 9, 15, 40)    0           Right-DS_BN_5[0][0]              \n",
      "__________________________________________________________________________________________________\n",
      "Left_PW_5 (Conv2D)              (None, 9, 15, 40)    1600        Left_DS_act_5[0][0]              \n",
      "__________________________________________________________________________________________________\n",
      "Right_PW_5 (Conv2D)             (None, 9, 15, 40)    1600        Right_DS_act_5[0][0]             \n",
      "__________________________________________________________________________________________________\n",
      "Left_PW_BN_5 (BatchNormalizatio (None, 9, 15, 40)    160         Left_PW_5[0][0]                  \n",
      "__________________________________________________________________________________________________\n",
      "Right_PW_BN_5 (BatchNormalizati (None, 9, 15, 40)    160         Right_PW_5[0][0]                 \n",
      "__________________________________________________________________________________________________\n",
      "Left_PW_act_5 (Activation)      (None, 9, 15, 40)    0           Left_PW_BN_5[0][0]               \n",
      "__________________________________________________________________________________________________\n",
      "Right_PW_act_5 (Activation)     (None, 9, 15, 40)    0           Right_PW_BN_5[0][0]              \n",
      "__________________________________________________________________________________________________\n",
      "Left_DS_6 (DepthwiseConv2D)     (None, 5, 8, 40)     360         Left_PW_act_5[0][0]              \n",
      "__________________________________________________________________________________________________\n",
      "Right_DS_6 (DepthwiseConv2D)    (None, 5, 8, 40)     360         Right_PW_act_5[0][0]             \n",
      "__________________________________________________________________________________________________\n",
      "Left-DS_BN_6 (BatchNormalizatio (None, 5, 8, 40)     160         Left_DS_6[0][0]                  \n",
      "__________________________________________________________________________________________________\n",
      "Right-DS_BN_6 (BatchNormalizati (None, 5, 8, 40)     160         Right_DS_6[0][0]                 \n",
      "__________________________________________________________________________________________________\n",
      "Left_DS_act_6 (Activation)      (None, 5, 8, 40)     0           Left-DS_BN_6[0][0]               \n",
      "__________________________________________________________________________________________________\n",
      "Right_DS_act_6 (Activation)     (None, 5, 8, 40)     0           Right-DS_BN_6[0][0]              \n",
      "__________________________________________________________________________________________________\n",
      "Left_PW_6 (Conv2D)              (None, 5, 8, 80)     3200        Left_DS_act_6[0][0]              \n",
      "__________________________________________________________________________________________________\n",
      "Right_PW_6 (Conv2D)             (None, 5, 8, 80)     3200        Right_DS_act_6[0][0]             \n",
      "__________________________________________________________________________________________________\n",
      "Left_PW_BN_6 (BatchNormalizatio (None, 5, 8, 80)     320         Left_PW_6[0][0]                  \n",
      "__________________________________________________________________________________________________\n",
      "Right_PW_BN_6 (BatchNormalizati (None, 5, 8, 80)     320         Right_PW_6[0][0]                 \n",
      "__________________________________________________________________________________________________\n",
      "Left_PW_act_6 (Activation)      (None, 5, 8, 80)     0           Left_PW_BN_6[0][0]               \n",
      "__________________________________________________________________________________________________\n",
      "Right_PW_act_6 (Activation)     (None, 5, 8, 80)     0           Right_PW_BN_6[0][0]              \n",
      "__________________________________________________________________________________________________\n",
      "Left_DS_7 (DepthwiseConv2D)     (None, 5, 8, 80)     720         Left_PW_act_6[0][0]              \n",
      "__________________________________________________________________________________________________\n",
      "Right_DS_7 (DepthwiseConv2D)    (None, 5, 8, 80)     720         Right_PW_act_6[0][0]             \n",
      "__________________________________________________________________________________________________\n",
      "Left-DS_BN_7 (BatchNormalizatio (None, 5, 8, 80)     320         Left_DS_7[0][0]                  \n",
      "__________________________________________________________________________________________________\n",
      "Right-DS_BN_7 (BatchNormalizati (None, 5, 8, 80)     320         Right_DS_7[0][0]                 \n",
      "__________________________________________________________________________________________________\n",
      "Left_DS_act_7 (Activation)      (None, 5, 8, 80)     0           Left-DS_BN_7[0][0]               \n",
      "__________________________________________________________________________________________________\n",
      "Right_DS_act_7 (Activation)     (None, 5, 8, 80)     0           Right-DS_BN_7[0][0]              \n",
      "__________________________________________________________________________________________________\n",
      "Left_PW_7 (Conv2D)              (None, 5, 8, 80)     6400        Left_DS_act_7[0][0]              \n",
      "__________________________________________________________________________________________________\n",
      "Right_PW_7 (Conv2D)             (None, 5, 8, 80)     6400        Right_DS_act_7[0][0]             \n",
      "__________________________________________________________________________________________________\n",
      "Left_PW_BN_7 (BatchNormalizatio (None, 5, 8, 80)     320         Left_PW_7[0][0]                  \n",
      "__________________________________________________________________________________________________\n",
      "Right_PW_BN_7 (BatchNormalizati (None, 5, 8, 80)     320         Right_PW_7[0][0]                 \n",
      "__________________________________________________________________________________________________\n",
      "Left_PW_act_7 (Activation)      (None, 5, 8, 80)     0           Left_PW_BN_7[0][0]               \n",
      "__________________________________________________________________________________________________\n",
      "Right_PW_act_7 (Activation)     (None, 5, 8, 80)     0           Right_PW_BN_7[0][0]              \n",
      "__________________________________________________________________________________________________\n",
      "Left_DS_8 (DepthwiseConv2D)     (None, 3, 4, 80)     720         Left_PW_act_7[0][0]              \n",
      "__________________________________________________________________________________________________\n",
      "Right_DS_8 (DepthwiseConv2D)    (None, 3, 4, 80)     720         Right_PW_act_7[0][0]             \n",
      "__________________________________________________________________________________________________\n",
      "Left-DS_BN_8 (BatchNormalizatio (None, 3, 4, 80)     320         Left_DS_8[0][0]                  \n",
      "__________________________________________________________________________________________________\n",
      "Right-DS_BN_8 (BatchNormalizati (None, 3, 4, 80)     320         Right_DS_8[0][0]                 \n",
      "__________________________________________________________________________________________________\n",
      "Left_DS_act_8 (Activation)      (None, 3, 4, 80)     0           Left-DS_BN_8[0][0]               \n",
      "__________________________________________________________________________________________________\n",
      "Right_DS_act_8 (Activation)     (None, 3, 4, 80)     0           Right-DS_BN_8[0][0]              \n",
      "__________________________________________________________________________________________________\n",
      "Left_PW_8 (Conv2D)              (None, 3, 4, 120)    9600        Left_DS_act_8[0][0]              \n",
      "__________________________________________________________________________________________________\n",
      "Right_PW_8 (Conv2D)             (None, 3, 4, 120)    9600        Right_DS_act_8[0][0]             \n",
      "__________________________________________________________________________________________________\n",
      "Left_PW_BN_8 (BatchNormalizatio (None, 3, 4, 120)    480         Left_PW_8[0][0]                  \n",
      "__________________________________________________________________________________________________\n",
      "Right_PW_BN_8 (BatchNormalizati (None, 3, 4, 120)    480         Right_PW_8[0][0]                 \n",
      "__________________________________________________________________________________________________\n",
      "Left_PW_act_8 (Activation)      (None, 3, 4, 120)    0           Left_PW_BN_8[0][0]               \n",
      "__________________________________________________________________________________________________\n",
      "Right_PW_act_8 (Activation)     (None, 3, 4, 120)    0           Right_PW_BN_8[0][0]              \n",
      "__________________________________________________________________________________________________\n",
      "Left_DS_9 (DepthwiseConv2D)     (None, 3, 4, 120)    1080        Left_PW_act_8[0][0]              \n",
      "__________________________________________________________________________________________________\n",
      "Right_DS_9 (DepthwiseConv2D)    (None, 3, 4, 120)    1080        Right_PW_act_8[0][0]             \n",
      "__________________________________________________________________________________________________\n",
      "Left-DS_BN_9 (BatchNormalizatio (None, 3, 4, 120)    480         Left_DS_9[0][0]                  \n",
      "__________________________________________________________________________________________________\n",
      "Right-DS_BN_9 (BatchNormalizati (None, 3, 4, 120)    480         Right_DS_9[0][0]                 \n",
      "__________________________________________________________________________________________________\n",
      "Left_DS_act_9 (Activation)      (None, 3, 4, 120)    0           Left-DS_BN_9[0][0]               \n",
      "__________________________________________________________________________________________________\n",
      "Right_DS_act_9 (Activation)     (None, 3, 4, 120)    0           Right-DS_BN_9[0][0]              \n",
      "__________________________________________________________________________________________________\n",
      "Left_PW_9 (Conv2D)              (None, 3, 4, 120)    14400       Left_DS_act_9[0][0]              \n",
      "__________________________________________________________________________________________________\n",
      "Right_PW_9 (Conv2D)             (None, 3, 4, 120)    14400       Right_DS_act_9[0][0]             \n",
      "__________________________________________________________________________________________________\n",
      "Left_PW_BN_9 (BatchNormalizatio (None, 3, 4, 120)    480         Left_PW_9[0][0]                  \n",
      "__________________________________________________________________________________________________\n",
      "Right_PW_BN_9 (BatchNormalizati (None, 3, 4, 120)    480         Right_PW_9[0][0]                 \n",
      "__________________________________________________________________________________________________\n",
      "Left_PW_act_9 (Activation)      (None, 3, 4, 120)    0           Left_PW_BN_9[0][0]               \n",
      "__________________________________________________________________________________________________\n",
      "Right_PW_act_9 (Activation)     (None, 3, 4, 120)    0           Right_PW_BN_9[0][0]              \n",
      "__________________________________________________________________________________________________\n",
      "Left_DS_10 (DepthwiseConv2D)    (None, 2, 2, 120)    1080        Left_PW_act_9[0][0]              \n",
      "__________________________________________________________________________________________________\n",
      "Right_DS_10 (DepthwiseConv2D)   (None, 2, 2, 120)    1080        Right_PW_act_9[0][0]             \n",
      "__________________________________________________________________________________________________\n",
      "Left-DS_BN_10 (BatchNormalizati (None, 2, 2, 120)    480         Left_DS_10[0][0]                 \n",
      "__________________________________________________________________________________________________\n",
      "Right-DS_BN_10 (BatchNormalizat (None, 2, 2, 120)    480         Right_DS_10[0][0]                \n",
      "__________________________________________________________________________________________________\n",
      "Left_DS_act_10 (Activation)     (None, 2, 2, 120)    0           Left-DS_BN_10[0][0]              \n",
      "__________________________________________________________________________________________________\n",
      "Right_DS_act_10 (Activation)    (None, 2, 2, 120)    0           Right-DS_BN_10[0][0]             \n",
      "__________________________________________________________________________________________________\n",
      "Left_PW_10 (Conv2D)             (None, 2, 2, 160)    19200       Left_DS_act_10[0][0]             \n",
      "__________________________________________________________________________________________________\n",
      "Right_PW_10 (Conv2D)            (None, 2, 2, 160)    19200       Right_DS_act_10[0][0]            \n",
      "__________________________________________________________________________________________________\n",
      "Left_PW_BN_10 (BatchNormalizati (None, 2, 2, 160)    640         Left_PW_10[0][0]                 \n",
      "__________________________________________________________________________________________________\n",
      "Right_PW_BN_10 (BatchNormalizat (None, 2, 2, 160)    640         Right_PW_10[0][0]                \n",
      "__________________________________________________________________________________________________\n",
      "Left_PW_act_10 (Activation)     (None, 2, 2, 160)    0           Left_PW_BN_10[0][0]              \n",
      "__________________________________________________________________________________________________\n",
      "Right_PW_act_10 (Activation)    (None, 2, 2, 160)    0           Right_PW_BN_10[0][0]             \n",
      "__________________________________________________________________________________________________\n",
      "Left_DS_11 (DepthwiseConv2D)    (None, 2, 2, 160)    1440        Left_PW_act_10[0][0]             \n",
      "__________________________________________________________________________________________________\n",
      "Right_DS_11 (DepthwiseConv2D)   (None, 2, 2, 160)    1440        Right_PW_act_10[0][0]            \n",
      "__________________________________________________________________________________________________\n",
      "Left-DS_BN_11 (BatchNormalizati (None, 2, 2, 160)    640         Left_DS_11[0][0]                 \n",
      "__________________________________________________________________________________________________\n",
      "Right-DS_BN_11 (BatchNormalizat (None, 2, 2, 160)    640         Right_DS_11[0][0]                \n",
      "__________________________________________________________________________________________________\n",
      "Left_DS_act_11 (Activation)     (None, 2, 2, 160)    0           Left-DS_BN_11[0][0]              \n",
      "__________________________________________________________________________________________________\n",
      "Right_DS_act_11 (Activation)    (None, 2, 2, 160)    0           Right-DS_BN_11[0][0]             \n",
      "__________________________________________________________________________________________________\n",
      "Left_PW_11 (Conv2D)             (None, 2, 2, 160)    25600       Left_DS_act_11[0][0]             \n",
      "__________________________________________________________________________________________________\n",
      "Right_PW_11 (Conv2D)            (None, 2, 2, 160)    25600       Right_DS_act_11[0][0]            \n",
      "__________________________________________________________________________________________________\n",
      "Left_PW_BN_11 (BatchNormalizati (None, 2, 2, 160)    640         Left_PW_11[0][0]                 \n",
      "__________________________________________________________________________________________________\n",
      "Right_PW_BN_11 (BatchNormalizat (None, 2, 2, 160)    640         Right_PW_11[0][0]                \n",
      "__________________________________________________________________________________________________\n",
      "Left_PW_act_11 (Activation)     (None, 2, 2, 160)    0           Left_PW_BN_11[0][0]              \n",
      "__________________________________________________________________________________________________\n",
      "Right_PW_act_11 (Activation)    (None, 2, 2, 160)    0           Right_PW_BN_11[0][0]             \n",
      "__________________________________________________________________________________________________\n",
      "Left_global_avg_pool (AveragePo (None, 1, 1, 160)    0           Left_PW_act_11[0][0]             \n",
      "__________________________________________________________________________________________________\n",
      "Right_global_avg_pool (AverageP (None, 1, 1, 160)    0           Right_PW_act_11[0][0]            \n",
      "__________________________________________________________________________________________________\n",
      "concatenate (Concatenate)       (None, 1, 1, 320)    0           Left_global_avg_pool[0][0]       \n",
      "                                                                 Right_global_avg_pool[0][0]      \n",
      "__________________________________________________________________________________________________\n",
      "flatten (Flatten)               (None, 320)          0           concatenate[0][0]                \n",
      "__________________________________________________________________________________________________\n",
      "Merge_dense_1 (Dense)           (None, 320)          102720      flatten[0][0]                    \n",
      "__________________________________________________________________________________________________\n",
      "Merge_BN_1 (BatchNormalization) (None, 320)          1280        Merge_dense_1[0][0]              \n",
      "__________________________________________________________________________________________________\n",
      "Merge_act_1 (Activation)        (None, 320)          0           Merge_BN_1[0][0]                 \n",
      "__________________________________________________________________________________________________\n",
      "Merge_drop_1 (Dropout)          (None, 320)          0           Merge_act_1[0][0]                \n",
      "__________________________________________________________________________________________________\n",
      "Merge_dense_out (Dense)         (None, 2)            642         Merge_drop_1[0][0]               \n",
      "__________________________________________________________________________________________________\n",
      "Merge_BN_out (BatchNormalizatio (None, 2)            8           Merge_dense_out[0][0]            \n",
      "__________________________________________________________________________________________________\n",
      "Merge_act_out (Activation)      (None, 2)            0           Merge_BN_out[0][0]               \n",
      "__________________________________________________________________________________________________\n",
      "Merge_drop_out (Dropout)        (None, 2)            0           Merge_act_out[0][0]              \n",
      "==================================================================================================\n",
      "Total params: 292,390\n",
      "Trainable params: 285,586\n",
      "Non-trainable params: 6,804\n",
      "__________________________________________________________________________________________________\n"
     ]
    }
   ],
   "source": [
    "tf.reset_default_graph()\n",
    "model_with_ds_pw = build_net_with_mobile(channel_ls, shape)\n",
    "model_with_ds_pw.summary()"
   ]
  },
  {
   "cell_type": "code",
   "execution_count": 111,
   "metadata": {},
   "outputs": [],
   "source": [
    "#show_graph(tf.get_default_graph())"
   ]
  },
  {
   "cell_type": "code",
   "execution_count": 108,
   "metadata": {},
   "outputs": [],
   "source": [
    "opt = Adam(lr=1e-3, decay=1e-3 / 200)\n",
    "model_with_ds_pw.compile(loss = 'mse', optimizer= opt, metrics=['mean_absolute_error'])"
   ]
  },
  {
   "cell_type": "code",
   "execution_count": 109,
   "metadata": {},
   "outputs": [
    {
     "name": "stdout",
     "output_type": "stream",
     "text": [
      "Train on 169000 samples, validate on 26000 samples\n",
      "Epoch 1/5\n",
      "169000/169000 [==============================] - 716s 4ms/sample - loss: 0.8804 - mean_absolute_error: 0.7550 - val_loss: 0.1005 - val_mean_absolute_error: 0.2625\n",
      "Epoch 2/5\n",
      "169000/169000 [==============================] - 707s 4ms/sample - loss: 0.3533 - mean_absolute_error: 0.5002 - val_loss: 0.1461 - val_mean_absolute_error: 0.3121\n",
      "Epoch 3/5\n",
      "169000/169000 [==============================] - 692s 4ms/sample - loss: 0.1811 - mean_absolute_error: 0.3398 - val_loss: 0.1205 - val_mean_absolute_error: 0.2789\n",
      "Epoch 4/5\n",
      "169000/169000 [==============================] - 707s 4ms/sample - loss: 0.1297 - mean_absolute_error: 0.2489 - val_loss: 0.1065 - val_mean_absolute_error: 0.2546\n",
      "Epoch 5/5\n",
      "169000/169000 [==============================] - 709s 4ms/sample - loss: 0.1184 - mean_absolute_error: 0.2127 - val_loss: 0.1010 - val_mean_absolute_error: 0.2457\n"
     ]
    }
   ],
   "source": [
    "with tf.device('/device:GPU:2'):\n",
    "    train_history_ds_pw = model_with_ds_pw.fit([LE_Train, RE_Train], Label_train, \n",
    "                                epochs= epoch, batch_size= batch_size, \n",
    "                                validation_data=([LE_val, RE_val], Label_val), verbose= 1)"
   ]
  },
  {
   "cell_type": "code",
   "execution_count": 112,
   "metadata": {},
   "outputs": [
    {
     "name": "stdout",
     "output_type": "stream",
     "text": [
      "18394/18394 [==============================] - 17s 932us/sample - loss: 0.0610 - mean_absolute_error: 0.1959 - loss: 0.0620 - mean_absolute_error\n"
     ]
    },
    {
     "data": {
      "text/plain": [
       "[0.06098386990282119, 0.19591428]"
      ]
     },
     "execution_count": 112,
     "metadata": {},
     "output_type": "execute_result"
    }
   ],
   "source": [
    "model_with_ds_pw.evaluate([LE_test_image, RE_test_image], test_label)"
   ]
  },
  {
   "cell_type": "code",
   "execution_count": 110,
   "metadata": {},
   "outputs": [
    {
     "name": "stdout",
     "output_type": "stream",
     "text": [
      "Saved model to disk\n"
     ]
    }
   ],
   "source": [
    "path = \"/home/spow12/Codes/temp/model\"\n",
    "save_model(model_with_ds_pw, train_history_ds_pw, path = path, name='mobile')"
   ]
  },
  {
   "cell_type": "code",
   "execution_count": 114,
   "metadata": {},
   "outputs": [
    {
     "data": {
      "image/png": "[encoded data removed]",
      "text/plain": [
       "<Figure size 576x864 with 2 Axes>"
      ]
     },
     "metadata": {
      "needs_background": "light"
     },
     "output_type": "display_data"
    }
   ],
   "source": [
    "plot_history(train_history_ds_pw)"
   ]
  },
  {
   "cell_type": "code",
   "execution_count": 102,
   "metadata": {},
   "outputs": [
    {
     "ename": "ModuleNotFoundError",
     "evalue": "No module named 'talos'",
     "output_type": "error",
     "traceback": [
      "\u001b[0;31m---------------------------------------------------------------------------\u001b[0m",
      "\u001b[0;31mModuleNotFoundError\u001b[0m                       Traceback (most recent call last)",
      "\u001b[0;32m<ipython-input-102-d78522754468>\u001b[0m in \u001b[0;36m<module>\u001b[0;34m\u001b[0m\n\u001b[0;32m----> 1\u001b[0;31m \u001b[0;32mimport\u001b[0m \u001b[0mtalos\u001b[0m\u001b[0;34m\u001b[0m\u001b[0;34m\u001b[0m\u001b[0m\n\u001b[0m",
      "\u001b[0;31mModuleNotFoundError\u001b[0m: No module named 'talos'"
     ]
    }
   ],
   "source": [
    "import talos"
   ]
  },
  {
   "cell_type": "code",
   "execution_count": null,
   "metadata": {},
   "outputs": [],
   "source": [
    "\"\"\"\n",
    "from tensorflow.keras.models import model_from_json \n",
    "json_file = open(\"/home/spow12/Codes/temp/Graphes/model_shrink_1.json\", \"r\")\n",
    "loaded_model_json = json_file.read() \n",
    "json_file.close()\n",
    "loaded_model = model_from_json(loaded_model_json)\n",
    "\n",
    "loaded_model.load_weights(\"/home/spow12/Codes/temp/Variables/model_shrink_1.h5\")\n",
    "print(\"Loaded model from disk\")\n",
    "\n",
    "loaded_model.compile(loss = 'mse', optimizer= opt, \n",
    "                     metrics=['mean_absolute_error'])\n",
    "score = loaded_model.evaluate([LE_test_image, RE_test_image],test_label ,\n",
    "                              verbose=1)\n",
    "\"\"\""
   ]
  },
  {
   "cell_type": "code",
   "execution_count": null,
   "metadata": {},
   "outputs": [],
   "source": [
    "# from tensorflow_model_optimization.sparsity import keras as sparsity"
   ]
  },
  {
   "cell_type": "code",
   "execution_count": null,
   "metadata": {},
   "outputs": [],
   "source": [
    "\"\"\"tf.reset_default_graph()\n",
    "\n",
    "end_step = np.ceil(1.0 * len(LE_train_image) / batch_size).astype(np.int32) * epoch\n",
    "print(end_step)\n",
    "\n",
    "new_pruning_params = {\n",
    "      'pruning_schedule': sparsity.PolynomialDecay(initial_sparsity=0.50,\n",
    "                                                   final_sparsity=0.90,\n",
    "                                                   begin_step=0,\n",
    "                                                   end_step=end_step,\n",
    "                                                   frequency=100)\n",
    "}\n",
    "model_for_pruned = build_net(channel_ls, shape)\n",
    "new_pruned_model = sparsity.prune_low_magnitude(model_for_pruned, **new_pruning_params)\n",
    "new_pruned_model.summary()\n",
    "\n",
    "new_pruned_model.compile(loss = 'mse', optimizer= opt, metrics=['mean_absolute_error'])\n",
    "callbacks = [sparsity.UpdatePruningStep()]\n",
    "#score = new_pruned_model.evaluate([LE_test_image, RE_test_image], test_label, verbose=0)\"\"\""
   ]
  },
  {
   "cell_type": "code",
   "execution_count": null,
   "metadata": {},
   "outputs": [],
   "source": [
    "# train_history_pruned = new_pruned_model.fit([LE_train_image, RE_train_image], train_label, epochs= epoch, batch_size= batch_size, \n",
    "#                           validation_data=([LE_val_image, RE_val_image], val_label), verbose= 1, callbacks=callbacks)"
   ]
  },
  {
   "cell_type": "code",
   "execution_count": null,
   "metadata": {},
   "outputs": [],
   "source": [
    "# model_json = new_pruned_model.to_json()\n",
    "# with open(\"/home/spow12/Codes/temp/Graphes/model_pruned.json', \"w\") as f: \n",
    "#     f.write(model_json)\n",
    "#     f.close()\n",
    "\n",
    "# model.save_weights(\"/home/spow12/Codes/temp/Variables/model_pruned.h5\" +\".h5\")\n",
    "# print(\"Saved model to disk\")\n",
    "          \n",
    "# hist = pd.DataFrame(train_history_pruned.history)\n",
    "# hist.to_csv('/home/spow12/Codes/temp/Variables/model_pruned.csv')\n",
    "\n",
    "# plot_history(train_history_pruned)"
   ]
  },
  {
   "cell_type": "code",
   "execution_count": null,
   "metadata": {},
   "outputs": [],
   "source": []
  }
 ],
 "metadata": {
  "kernelspec": {
   "display_name": "Python 3",
   "language": "python",
   "name": "python3"
  },
  "language_info": {
   "codemirror_mode": {
    "name": "ipython",
    "version": 3
   },
   "file_extension": ".py",
   "mimetype": "text/x-python",
   "name": "python",
   "nbconvert_exporter": "python",
   "pygments_lexer": "ipython3",
   "version": "3.7.4"
  }
 },
 "nbformat": 4,
 "nbformat_minor": 2
}
