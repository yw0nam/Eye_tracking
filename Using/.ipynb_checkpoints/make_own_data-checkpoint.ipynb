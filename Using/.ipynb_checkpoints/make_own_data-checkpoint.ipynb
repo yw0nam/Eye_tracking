{
 "cells": [
  {
   "cell_type": "code",
   "execution_count": 1,
   "metadata": {},
   "outputs": [
    {
     "name": "stderr",
     "output_type": "stream",
     "text": [
      "C:\\Anaconda\\lib\\importlib\\_bootstrap.py:219: RuntimeWarning: numpy.ufunc size changed, may indicate binary incompatibility. Expected 192 from C header, got 216 from PyObject\n",
      "  return f(*args, **kwds)\n"
     ]
    }
   ],
   "source": [
    "import pandas as pd\n",
    "import cv2\n",
    "import numpy as np\n",
    "import matplotlib.pyplot as plt"
   ]
  },
  {
   "cell_type": "code",
   "execution_count": 52,
   "metadata": {},
   "outputs": [],
   "source": [
    "# zero_img = np.zeros([1080, 1920, 3])\n",
    "# col_axis = np.random.randint(80, 1840, size=(50))\n",
    "# row_axis = np.random.randint(80, 1000, size=(50))\n",
    "\n",
    "# zero_img_copy = zero_img.copy()\n",
    "# img = cv2.circle(zero_img_copy, (col_axis[idx], row_axis[idx]), 40, (255, 255, 255), -1)\n",
    "# plt.imshow(img)"
   ]
  },
  {
   "cell_type": "code",
   "execution_count": 94,
   "metadata": {},
   "outputs": [
    {
     "name": "stdout",
     "output_type": "stream",
     "text": [
      "../../img/opencv_frame_0.png written!\n",
      "Escape hit, closing...\n",
      "Escape hit, closing...\n",
      "Escape hit, closing...\n",
      "../../img/opencv_frame_1.png written!\n",
      "Escape hit, closing...\n",
      "Escape hit, closing...\n",
      "../../img/opencv_frame_2.png written!\n",
      "Escape hit, closing...\n",
      "../../img/opencv_frame_3.png written!\n",
      "Escape hit, closing...\n",
      "../../img/opencv_frame_4.png written!\n",
      "Escape hit, closing...\n",
      "../../img/opencv_frame_5.png written!\n",
      "Escape hit, closing...\n",
      "../../img/opencv_frame_6.png written!\n",
      "Escape hit, closing...\n",
      "../../img/opencv_frame_7.png written!\n",
      "Escape hit, closing...\n",
      "../../img/opencv_frame_8.png written!\n",
      "Escape hit, closing...\n",
      "Escape hit, closing...\n",
      "../../img/opencv_frame_9.png written!\n",
      "Escape hit, closing...\n",
      "Escape hit, closing...\n",
      "../../img/opencv_frame_10.png written!\n",
      "Escape hit, closing...\n",
      "Escape hit, closing...\n",
      "Escape hit, closing...\n",
      "../../img/opencv_frame_11.png written!\n",
      "Escape hit, closing...\n",
      "Escape hit, closing...\n",
      "Escape hit, closing...\n",
      "../../img/opencv_frame_12.png written!\n",
      "Escape hit, closing...\n",
      "../../img/opencv_frame_13.png written!\n",
      "Escape hit, closing...\n",
      "../../img/opencv_frame_14.png written!\n",
      "Escape hit, closing...\n",
      "Escape hit, closing...\n",
      "Escape hit, closing...\n",
      "../../img/opencv_frame_15.png written!\n",
      "Escape hit, closing...\n",
      "../../img/opencv_frame_16.png written!\n",
      "Escape hit, closing...\n",
      "Escape hit, closing...\n",
      "Escape hit, closing...\n",
      "Escape hit, closing...\n",
      "../../img/opencv_frame_17.png written!\n",
      "Escape hit, closing...\n",
      "Escape hit, closing...\n",
      "Escape hit, closing...\n",
      "Escape hit, closing...\n",
      "../../img/opencv_frame_18.png written!\n",
      "Escape hit, closing...\n",
      "Escape hit, closing...\n",
      "../../img/opencv_frame_19.png written!\n",
      "Escape hit, closing...\n",
      "../../img/opencv_frame_20.png written!\n",
      "Escape hit, closing...\n",
      "../../img/opencv_frame_21.png written!\n",
      "Escape hit, closing...\n",
      "../../img/opencv_frame_22.png written!\n",
      "Escape hit, closing...\n",
      "Escape hit, closing...\n",
      "Escape hit, closing...\n",
      "Escape hit, closing...\n",
      "Escape hit, closing...\n",
      "Escape hit, closing...\n",
      "../../img/opencv_frame_23.png written!\n",
      "Escape hit, closing...\n",
      "../../img/opencv_frame_24.png written!\n",
      "Escape hit, closing...\n",
      "Escape hit, closing...\n",
      "../../img/opencv_frame_25.png written!\n",
      "Escape hit, closing...\n"
     ]
    }
   ],
   "source": [
    "try:\n",
    "    label = pd.read_csv('../../img/label.csv')\n",
    "except FileNotFoundError:\n",
    "    label = pd.DataFrame(columns=('Screen_x', 'Screen_y'))\n",
    "zero_img = np.zeros([1080, 1920, 3])\n",
    "col_axis = np.random.randint(80, 1840, size=(50))\n",
    "row_axis = np.random.randint(80, 1000, size=(50))\n",
    "\n",
    "cam = cv2.VideoCapture(0)\n",
    "cv2.namedWindow(\"test\")\n",
    "img_counter = len(label)\n",
    "\n",
    "for idx in range(len(x_axis)):\n",
    "    zero_img_copy = zero_img.copy()\n",
    "    img = cv2.circle(zero_img_copy, (col_axis[idx], row_axis[idx]), 40, (255, 255, 255), -1)\n",
    "    while True:\n",
    "        ret, frame = cam.read()\n",
    "        cv2.imshow(\"test\", frame)\n",
    "        cv2.imshow(\"img\", img)\n",
    "        if not ret:\n",
    "            break\n",
    "        k = cv2.waitKey(1)\n",
    "\n",
    "        if k%256 == 27:\n",
    "            # ESC pressed\n",
    "            print(\"Escape hit, closing...\")\n",
    "            break\n",
    "        elif k%256 == 32:\n",
    "            # SPACE pressed\n",
    "            img_name = \"../../img/opencv_frame_{}.png\".format(img_counter)\n",
    "            cv2.imwrite(img_name, frame)\n",
    "            print(\"{} written!\".format(img_name))\n",
    "            img_counter += 1\n",
    "            label.loc[img_counter] = [col_axis[idx], row_axis[idx]]\n",
    "\n",
    "cam.release()\n",
    "\n",
    "cv2.destroyAllWindows()"
   ]
  },
  {
   "cell_type": "code",
   "execution_count": 96,
   "metadata": {},
   "outputs": [],
   "source": [
    "label.to_csv('../../img/label.csv')"
   ]
  },
  {
   "cell_type": "code",
   "execution_count": null,
   "metadata": {},
   "outputs": [],
   "source": []
  }
 ],
 "metadata": {
  "kernelspec": {
   "display_name": "Python 3",
   "language": "python",
   "name": "python3"
  },
  "language_info": {
   "codemirror_mode": {
    "name": "ipython",
    "version": 3
   },
   "file_extension": ".py",
   "mimetype": "text/x-python",
   "name": "python",
   "nbconvert_exporter": "python",
   "pygments_lexer": "ipython3",
   "version": "3.7.3"
  }
 },
 "nbformat": 4,
 "nbformat_minor": 2
}
