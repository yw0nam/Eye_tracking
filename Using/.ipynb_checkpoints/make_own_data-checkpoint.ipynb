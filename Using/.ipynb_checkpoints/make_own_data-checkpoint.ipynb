{
 "cells": [
  {
   "cell_type": "code",
   "execution_count": 1,
   "metadata": {},
   "outputs": [],
   "source": [
    "import pandas as pd\n",
    "import cv2\n",
    "import numpy as np\n",
    "import matplotlib.pyplot as plt"
   ]
  },
  {
   "cell_type": "code",
   "execution_count": 2,
   "metadata": {},
   "outputs": [],
   "source": [
    "# zero_img = np.zeros([1080, 1920, 3])\n",
    "# col_axis = np.random.randint(80, 1840, size=(50))\n",
    "# row_axis = np.random.randint(80, 1000, size=(50))\n",
    "\n",
    "# zero_img_copy = zero_img.copy()\n",
    "# img = cv2.circle(zero_img_copy, (col_axis[idx], row_axis[idx]), 40, (255, 255, 255), -1)\n",
    "# plt.imshow(img)"
   ]
  },
  {
   "cell_type": "code",
   "execution_count": 23,
   "metadata": {
    "scrolled": true
   },
   "outputs": [
    {
     "name": "stdout",
     "output_type": "stream",
     "text": [
      "Escape hit, closing...\n",
      "../../img/opencv_frame_0.png written!\n",
      "Escape hit, closing...\n",
      "Escape hit, closing...\n",
      "Escape hit, closing...\n",
      "Escape hit, closing...\n",
      "Escape hit, closing...\n",
      "Escape hit, closing...\n",
      "Escape hit, closing...\n",
      "Escape hit, closing...\n",
      "Escape hit, closing...\n",
      "Escape hit, closing...\n",
      "Escape hit, closing...\n",
      "Escape hit, closing...\n",
      "Escape hit, closing...\n",
      "Escape hit, closing...\n",
      "Escape hit, closing...\n",
      "Escape hit, closing...\n",
      "Escape hit, closing...\n",
      "Escape hit, closing...\n",
      "Escape hit, closing...\n",
      "Escape hit, closing...\n",
      "Escape hit, closing...\n",
      "Escape hit, closing...\n",
      "Escape hit, closing...\n",
      "Escape hit, closing...\n",
      "Escape hit, closing...\n",
      "Escape hit, closing...\n",
      "Escape hit, closing...\n",
      "Escape hit, closing...\n",
      "Escape hit, closing...\n",
      "Escape hit, closing...\n",
      "Escape hit, closing...\n",
      "Escape hit, closing...\n",
      "Escape hit, closing...\n",
      "Escape hit, closing...\n",
      "Escape hit, closing...\n",
      "Escape hit, closing...\n",
      "Escape hit, closing...\n",
      "Escape hit, closing...\n",
      "Escape hit, closing...\n",
      "Escape hit, closing...\n",
      "Escape hit, closing...\n",
      "Escape hit, closing...\n",
      "Escape hit, closing...\n",
      "Escape hit, closing...\n",
      "Escape hit, closing...\n",
      "Escape hit, closing...\n",
      "Escape hit, closing...\n",
      "Escape hit, closing...\n",
      "Escape hit, closing...\n"
     ]
    }
   ],
   "source": [
    "# Make data frame for store label\n",
    "label = pd.DataFrame(columns=('Screen_x', 'Screen_y'))\n",
    "\n",
    "# black img\n",
    "zero_img = np.zeros([1080, 1920, 3])\n",
    "# make random axis, you can change size of list\n",
    "col_axis = np.random.randint(80, 1840, size=(10))\n",
    "row_axis = np.random.randint(80, 1000, size=(10))\n",
    "\n",
    "cam = cv2.VideoCapture(0)\n",
    "cv2.namedWindow(\"test\")\n",
    "# img count\n",
    "img_counter = 0\n",
    "\n",
    "for idx in range(len(col_axis)):\n",
    "    zero_img_copy = zero_img.copy()\n",
    "    img = cv2.circle(zero_img_copy, (col_axis[idx], row_axis[idx]), 40, (255, 255, 255), -1)\n",
    "    while True:\n",
    "        ret, frame = cam.read()\n",
    "        cv2.imshow(\"test\", frame)\n",
    "        cv2.imshow(\"img\", img)\n",
    "        if not ret:\n",
    "            break\n",
    "        k = cv2.waitKey(1)\n",
    "\n",
    "        if k%256 == 27:\n",
    "            # ESC pressed -> proceed  to next idx\n",
    "            print(\"Escape hit, closing...\")\n",
    "            break\n",
    "        elif k%256 == 32:\n",
    "            # SPACE pressed -> store img\n",
    "            # Set path -> you can change the path\n",
    "            img_name = \"../../img/opencv_frame_{}.png\".format(img_counter)\n",
    "            cv2.imwrite(img_name, frame)\n",
    "            print(\"{} written!\".format(img_name))\n",
    "            img_counter += 1\n",
    "            label.loc[img_counter] = [col_axis[idx], row_axis[idx]]\n",
    "\n",
    "cam.release()\n",
    "\n",
    "cv2.destroyAllWindows()\n",
    "\n",
    "try:\n",
    "    old_label = pd.read_csv('../../img/label.csv')\n",
    "    merged_label = pd.concat(old_label, label, axis=0)\n",
    "    merged_label.to_csv('../../img/label.csv', mode= 'w')\n",
    "# If can't find csv file from path, make new dataframe\n",
    "except FileNotFoundError:\n",
    "    label.to_csv('../../img/label.csv')"
   ]
  },
  {
   "cell_type": "code",
   "execution_count": null,
   "metadata": {},
   "outputs": [],
   "source": []
  }
 ],
 "metadata": {
  "kernelspec": {
   "display_name": "Python 3",
   "language": "python",
   "name": "python3"
  },
  "language_info": {
   "codemirror_mode": {
    "name": "ipython",
    "version": 3
   },
   "file_extension": ".py",
   "mimetype": "text/x-python",
   "name": "python",
   "nbconvert_exporter": "python",
   "pygments_lexer": "ipython3",
   "version": "3.7.3"
  }
 },
 "nbformat": 4,
 "nbformat_minor": 2
}
