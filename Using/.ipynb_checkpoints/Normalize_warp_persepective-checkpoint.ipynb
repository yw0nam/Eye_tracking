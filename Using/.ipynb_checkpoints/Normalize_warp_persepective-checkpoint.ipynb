{
 "cells": [
  {
   "cell_type": "code",
   "execution_count": 1,
   "metadata": {},
   "outputs": [],
   "source": [
    "import tensorflow as tf\n",
    "import pandas as pd\n",
    "import numpy as np\n",
    "from functools import partial\n",
    "import cv2 \n",
    "from glob import glob\n",
    "import matplotlib.pyplot as plt\n",
    "import scipy.io as io"
   ]
  },
  {
   "cell_type": "code",
   "execution_count": 2,
   "metadata": {},
   "outputs": [],
   "source": [
    "# anno_df = pd.read_csv(anno_path[0], sep = ' ' ,header= None)\n",
    "# landmarks = anno_df.iloc[:, :24]"
   ]
  },
  {
   "cell_type": "code",
   "execution_count": 3,
   "metadata": {
    "scrolled": true
   },
   "outputs": [],
   "source": [
    "# landmarks"
   ]
  },
  {
   "cell_type": "code",
   "execution_count": 4,
   "metadata": {},
   "outputs": [],
   "source": [
    "# temp = list(landmarks.loc[0])\n",
    "# img = cv2.imread(image_path[0])\n",
    "#for i in range(0, len(temp), 2):\n",
    " #   img = cv2.line(img,(temp[i],temp[i+1]),(temp[i],temp[i +1]),(255,0,0),5)"
   ]
  },
  {
   "cell_type": "code",
   "execution_count": 5,
   "metadata": {},
   "outputs": [],
   "source": [
    "# i = 18\n",
    "# img = cv2.line(img,(temp[i],temp[i+1]),(temp[i],temp[i +1]),(255,0,0),5)"
   ]
  },
  {
   "cell_type": "code",
   "execution_count": 6,
   "metadata": {},
   "outputs": [],
   "source": [
    "def get_width(arr, direction): # dlib's eye 6 point landamrk \n",
    "    if direction == 0:  # left\n",
    "        width_top = [(arr[2] + arr[4]) // 2, (arr[3] + arr[5]) // 2]\n",
    "        width_bottom = [(arr[8] + arr[10]) // 2, (arr[9] + arr[11]) // 2]\n",
    "    if direction == 1: # right \n",
    "        width_top = [(arr[14] + arr[16]) // 2, (arr[15] + arr[17]) // 2]\n",
    "        width_bottom = [(arr[20] + arr[22]) // 2, (arr[21] + arr[23]) // 2]\n",
    "    return width_top, width_bottom\n",
    "\n",
    "def get_height(arr, direction):\n",
    "    if direction == 0:  # left\n",
    "        height_left = [arr[0], arr[1]]\n",
    "        height_right = [arr[6], arr[7]]\n",
    "    if direction == 1: # right \n",
    "        height_left = [arr[12], arr[13]]\n",
    "        height_right = [arr[18], arr[19]]\n",
    "    return height_left, height_right\n",
    "\n",
    "def draw_dot(img_path, arr):\n",
    "    image = cv2.imread(img_path)\n",
    "    image_dot = cv2.line(image,(arr[0],arr[1]),(arr[0],arr[1]),(255,0,0),5)\n",
    "    plt.imshow(image_dot)"
   ]
  },
  {
   "cell_type": "code",
   "execution_count": 7,
   "metadata": {},
   "outputs": [],
   "source": [
    "def make_coordinate(arr, direction):\n",
    "    if direction == 0:\n",
    "        top, bottom = get_width(arr, 0)\n",
    "        left, right = get_height(arr, 0)\n",
    "    elif direction == 1:\n",
    "        top, bottom = get_width(arr, 1)\n",
    "        left, right = get_height(arr, 1)\n",
    "    "
   ]
  },
  {
   "cell_type": "code",
   "execution_count": 8,
   "metadata": {},
   "outputs": [],
   "source": [
    "def add(array,mod, num = 15):\n",
    "    arr = array.copy()\n",
    "    if mod == 0: #left\n",
    "        arr[0] -= num\n",
    "    elif mod == 1: #right\n",
    "        arr[0] += num\n",
    "    elif mod == 2: # top\n",
    "        arr[1] -= num\n",
    "    elif mod == 3: # bottom\n",
    "        arr[1] += num\n",
    "    return arr"
   ]
  },
  {
   "cell_type": "code",
   "execution_count": 9,
   "metadata": {},
   "outputs": [],
   "source": [
    "# mod_left = add(left, 0)\n",
    "# mod_right = add(right, 1)\n",
    "# mod_top = add(top, 2)\n",
    "# mod_bottom = add(bottom, 3)\n",
    "\n",
    "# draw_dot(image_path[0], mod_top)\n",
    "\n",
    "# mod_left, mod_top, mod_right, mod_bottom\n",
    "\n",
    "# rect_left_top = [mod_left[0], mod_top[1]]\n",
    "# rect_right_top = [mod_right[0], mod_top[1]]\n",
    "# rect_left_bottom = [mod_left[0], mod_bottom[1]]\n",
    "# rect_right_bottom = [mod_right[0], mod_bottom[1]]\n",
    "\n",
    "# rect_left_top, rect_right_top, rect_right_bottom, rect_left_bottom\n",
    "\n",
    "# img = cv2.imread(image_path[0])\n",
    "# h, w, c = img.shape\n",
    "\n",
    "# dstPoint=np.array([rect_left_top, rect_right_top, rect_right_bottom,\n",
    "#                    rect_left_bottom], dtype=np.float32)\n",
    "# srcPoint=np.array([[0, 0], [w, 0], [w, h], [0, h]], dtype=np.float32)\n",
    "# matrix = cv2.getPerspectiveTransform(dstPoint, srcPoint)\n",
    "\n",
    "# matrix\n",
    "\n",
    "# draw_dot(image_path[0], rect_left_top)\n",
    "\n",
    "# dst = cv2.warpPerspective(img, matrix, (w, h))"
   ]
  },
  {
   "cell_type": "code",
   "execution_count": 10,
   "metadata": {},
   "outputs": [],
   "source": [
    "def Normalize(arr,img_path, output_w = 60, output_h = 36):\n",
    "    mod_left = add(arr[0], 0)\n",
    "    mod_right = add(arr[1], 1)\n",
    "    mod_top = add(arr[2], 2)\n",
    "    mod_bottom = add(arr[3], 3)\n",
    "    \n",
    "    rect_left_top = [mod_left[0], mod_top[1]]\n",
    "    rect_right_top = [mod_right[0], mod_top[1]]\n",
    "    rect_left_bottom = [mod_left[0], mod_bottom[1]]\n",
    "    rect_right_bottom = [mod_right[0], mod_bottom[1]]\n",
    "    \n",
    "    img = cv2.imread(img_path)\n",
    "    h, w, c = img.shape\n",
    "    \n",
    "    dstPoint=np.array([rect_left_top, rect_right_top, rect_right_bottom,\n",
    "                   rect_left_bottom], dtype=np.float32)\n",
    "    srcPoint=np.array([[0, 0], [w, 0], [w, h], [0, h]], dtype=np.float32)\n",
    "    matrix = cv2.getPerspectiveTransform(dstPoint, srcPoint)\n",
    "    \n",
    "    dst = cv2.warpPerspective(img, matrix, (w, h))\n",
    "    resized_dst = cv2.resize(dst, (output_w, output_h), interpolation=cv2.INTER_AREA )\n",
    "    return resized_dst"
   ]
  },
  {
   "cell_type": "code",
   "execution_count": 11,
   "metadata": {},
   "outputs": [],
   "source": [
    "# make path as list\n",
    "anno_path = glob('/home/spow12/Codes/Data/MPIIGaze/Data/Original/*/*/annotation.txt')\n",
    "image_path = glob('/home/spow12/Codes/Data/MPIIGaze/Data/Original/*/*/*.jpg')\n",
    "image_path.sort()\n",
    "anno_path.sort()"
   ]
  },
  {
   "cell_type": "code",
   "execution_count": 12,
   "metadata": {},
   "outputs": [
    {
     "data": {
      "text/plain": [
       "<matplotlib.image.AxesImage at 0x7f72a83225f8>"
      ]
     },
     "execution_count": 12,
     "metadata": {},
     "output_type": "execute_result"
    },
    {
     "data": {
      "image/png": "[encoded data removed]",
      "text/plain": [
       "<Figure size 432x288 with 1 Axes>"
      ]
     },
     "metadata": {
      "needs_background": "light"
     },
     "output_type": "display_data"
    }
   ],
   "source": [
    "# Load annotation\n",
    "anno_df = pd.read_csv(anno_path[0], sep = ' ' ,header= None)\n",
    "# Make Dataframe only included eye landmarks\n",
    "landmarks = anno_df.iloc[:, :24]\n",
    "# DF to list row 0\n",
    "land_ls = list(landmarks.loc[0])\n",
    "# Read image \n",
    "img = cv2.imread(image_path[0])\n",
    "plt.imshow(img)"
   ]
  },
  {
   "cell_type": "code",
   "execution_count": 13,
   "metadata": {},
   "outputs": [],
   "source": [
    "top, bottom = get_width(land_ls, 0)  # 0 -> left, 1 -> right\n",
    "left, right = get_height(land_ls, 0) "
   ]
  },
  {
   "cell_type": "code",
   "execution_count": 14,
   "metadata": {},
   "outputs": [],
   "source": [
    "array = [left, right, top, bottom]  # Integrate value for making function's input\n",
    "dst = Normalize(array, image_path[0]) "
   ]
  },
  {
   "cell_type": "code",
   "execution_count": 15,
   "metadata": {
    "scrolled": true
   },
   "outputs": [
    {
     "data": {
      "text/plain": [
       "<matplotlib.image.AxesImage at 0x7f72a6f89780>"
      ]
     },
     "execution_count": 15,
     "metadata": {},
     "output_type": "execute_result"
    },
    {
     "data": {
      "image/png": "[encoded data removed]",
      "text/plain": [
       "<Figure size 432x288 with 1 Axes>"
      ]
     },
     "metadata": {
      "needs_background": "light"
     },
     "output_type": "display_data"
    }
   ],
   "source": [
    "plt.imshow(dst)"
   ]
  },
  {
   "cell_type": "code",
   "execution_count": null,
   "metadata": {},
   "outputs": [],
   "source": []
  }
 ],
 "metadata": {
  "kernelspec": {
   "display_name": "Python 3",
   "language": "python",
   "name": "python3"
  },
  "language_info": {
   "codemirror_mode": {
    "name": "ipython",
    "version": 3
   },
   "file_extension": ".py",
   "mimetype": "text/x-python",
   "name": "python",
   "nbconvert_exporter": "python",
   "pygments_lexer": "ipython3",
   "version": "3.7.3"
  }
 },
 "nbformat": 4,
 "nbformat_minor": 2
}
