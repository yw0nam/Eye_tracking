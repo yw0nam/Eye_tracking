{
 "cells": [
  {
   "cell_type": "code",
   "execution_count": 18,
   "metadata": {},
   "outputs": [],
   "source": [
    "import numpy as np\n",
    "import matplotlib.pyplot as plt\n",
    "from glob import glob\n",
    "import matplotlib.cm as cm\n",
    "from scipy.misc import imresize\n",
    "import cv2\n",
    "import pandas as pd\n",
    "import scipy.io as io"
   ]
  },
  {
   "cell_type": "code",
   "execution_count": 79,
   "metadata": {},
   "outputs": [
    {
     "data": {
      "image/png": "[encoded data removed]",
      "text/plain": [
       "<matplotlib.figure.Figure at 0x264889ee940>"
      ]
     },
     "metadata": {},
     "output_type": "display_data"
    }
   ],
   "source": [
    "def normalizeImg(inputImg, target_3D, hR, gc, roiSize, cameraMatrix, *args):\n",
    "    nargin = len(args)\n",
    "    # prepare the data\n",
    "    # for right eye\n",
    "    if nargin < 8:\n",
    "        focal_new = 960  # facoal length of the virual camera can be changed as needed.\n",
    "    if nargin < 9:\n",
    "        distance_new = 600\n",
    "    # please do not change it or set it to be different value, otherwise the gaze label will be different.\n",
    "\n",
    "    distance = np.linalg.norm(target_3D)\n",
    "    z_scale = distance_new / distance\n",
    "    cam_new = np.array([[focal_new, 0, roiSize[0] / 2], [0.0, focal_new, roiSize[1] / 2], [0, 0, 1.0]])\n",
    "    scaleMat = np.array([[1.0, 0.0, 0.0], [0.0, 1.0, 0.0], [0.0, 0.0, z_scale]])\n",
    "    hRx = hR[:, 0]\n",
    "    forward = (target_3D / distance) # shape?\n",
    "    down = np.cross(forward, hRx)\n",
    "    down = down / np.linalg.norm(down)\n",
    "    right = np.cross(down, forward)\n",
    "    right = right / np.linalg.norm(right) #shape?\n",
    "    rotMat = np.array([right, down, forward])\n",
    "    warpMat = np.matmul(np.matmul(cam_new, scaleMat), np.matmul(rotMat, np.linalg.inv(cameraMatrix)))\n",
    "    img_warped = cv2.warpPerspective(inputImg, warpMat, (roiSize[0], roiSize[1]))\n",
    "    # ROI size can be error?\n",
    "\n",
    "    # rotatoin normalization\n",
    "    cnvMat = np.matmul(scaleMat, rotMat)\n",
    "    hRnew = np.matmul(cnvMat, hR)\n",
    "    hrnew = cv2.Rodrigues(hRnew)[0]\n",
    "    htnew = np.matmul(cnvMat, target_3D)\n",
    "\n",
    "    # gaze vector normalizatoin\n",
    "    gcnew = np.matmul(cnvMat, gc)\n",
    "    gvnew = gcnew - htnew\n",
    "    gvnew = gvnew / np.linalg.norm(gvnew)\n",
    "    return img_warped, hrnew, gvnew\n",
    "\n",
    "# load the face model\n",
    "facemodel_mat = io.loadmat('C:/Users/nam young woo/Downloads/Codes/Eye Tracking/Codes/MPIIGaze/6 points-based face model.mat')\n",
    "facemodel = facemodel_mat['model']\n",
    "# I have to know about 6 points-based face model\n",
    "\n",
    "# load the image, annotation and camera parameters.\n",
    "img=cv2.imread('C:/Users/nam young woo/Downloads/Codes/Eye Tracking/Codes/MPIIGaze/Data/Original/p00/day01/0001.jpg')\n",
    "anotation_df = pd.read_csv('C:/Users/nam young woo/Downloads/Codes/Eye Tracking/Codes/MPIIGaze/Data/Original/p00/day01/annotation.txt',sep = ' ' ,header= None)\n",
    "anotation = np.array(anotation_df)\n",
    "cameraCalib = io.loadmat('C:/Users/nam young woo/Downloads/Codes/Eye Tracking/Codes/MPIIGaze/Data/Original/p00/Calibration/Camera.mat')\n",
    "\n",
    "#get head pose\n",
    "headpose_hr = anotation[0][29:32]\n",
    "headpose_ht = anotation[0][32:35]\n",
    "hR = cv2.Rodrigues(headpose_hr)[0]\n",
    "Fc = np.dot(hR ,facemodel) #rotate the face model, which is calcluated from facial landmakr detection\n",
    "try:\n",
    "    Fc[0] = Fc[0] + headpose_ht[0]\n",
    "    Fc[1] = Fc[1] + headpose_ht[1]\n",
    "    Fc[2] = Fc[2] + headpose_ht[2]\n",
    "except ValueError:\n",
    "    print(\"Fc shape and headpose_ht isn't same!\")\n",
    "    pass\n",
    "\n",
    "# get the eye center in the original camera cooridnate system.\n",
    "right_eye_cetter= 0.5 * (Fc[:, 0] + Fc[:, 1])\n",
    "left_eye_center = 0.5 * (Fc[:, 2] + Fc[:, 3])\n",
    "\n",
    "# get the gaze target\n",
    "gaze_target= anotation[0, 26:29]\n",
    "gaze_target = gaze_target.transpose()\n",
    "\n",
    "# set the size of normalized eye image\n",
    "eye_image_width=60\n",
    "eye_image_height=36\n",
    "\n",
    "# normalization for the right eye, you can do it for left eye by replacing\n",
    "# \"right_eye_cetter\" to \"left_eye_center\"\n",
    "\n",
    "eye_img,headpose,gaze=normalizeImg(img,right_eye_cetter,hR,gaze_target,\n",
    "                                   [eye_image_width, eye_image_height],\n",
    "                                   cameraCalib['cameraMatrix'])\n",
    "\n",
    "plt.imshow(eye_img)\n",
    "\n",
    "# convert the gaze direction in the camera cooridnate system to the angle\n",
    "# in the polar coordinate system\n",
    "\n",
    "gaze_theta= np.arcsin(-1 * gaze[1])\n",
    "gaze_phi= np.arctan2((-1 * gaze[0]), -1 * gaze[2])\n",
    "\n",
    "\n",
    "# save as above, conver head pose to the polar coordinate system\n",
    "M = cv2.Rodrigues(headpose)[0]\n",
    "Zv= M[:, 2]\n",
    "headpose_theta= np.arcsin(Zv[1])\n",
    "headpose_phi= np.arctan2(Zv[0], Zv[2])"
   ]
  },
  {
   "cell_type": "code",
   "execution_count": null,
   "metadata": {},
   "outputs": [],
   "source": [
    "plt.imshow()"
   ]
  }
 ],
 "metadata": {
  "kernelspec": {
   "display_name": "Python 3",
   "language": "python",
   "name": "python3"
  },
  "language_info": {
   "codemirror_mode": {
    "name": "ipython",
    "version": 3
   },
   "file_extension": ".py",
   "mimetype": "text/x-python",
   "name": "python",
   "nbconvert_exporter": "python",
   "pygments_lexer": "ipython3",
   "version": "3.7.4"
  }
 },
 "nbformat": 4,
 "nbformat_minor": 2
}
